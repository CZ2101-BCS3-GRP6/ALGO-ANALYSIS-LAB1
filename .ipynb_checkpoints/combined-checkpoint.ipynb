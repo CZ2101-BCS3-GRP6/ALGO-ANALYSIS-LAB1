{
 "cells": [
  {
   "cell_type": "markdown",
   "id": "3194c328",
   "metadata": {},
   "source": [
    "# CE2101/CZ2101 ALGORITHM DESIGN AND ANALYSIS\n",
    "# Project 1: Integration of Mergesort & Insertion Sort"
   ]
  },
  {
   "cell_type": "code",
   "execution_count": 30,
   "id": "ad215854",
   "metadata": {},
   "outputs": [],
   "source": [
    "import random\n",
    "from time import process_time\n",
    "import numpy as np\n",
    "import matplotlib.pyplot as plt\n",
    "import pandas as pd\n",
    "\n",
    "pd.set_option('display.max_rows', None)"
   ]
  },
  {
   "cell_type": "markdown",
   "id": "2de66c4a",
   "metadata": {},
   "source": [
    "### (a) Algorithm implementation: Implement the above hybrid algorithm."
   ]
  },
  {
   "cell_type": "code",
   "execution_count": 31,
   "id": "2701c77c",
   "metadata": {},
   "outputs": [],
   "source": [
    "#################### MERGESORT & INSERTION SORT ####################\n",
    "#### input: array, threshold integer | output: key comparisons\n",
    "def insertMergeSort(arr, S):\n",
    "    keyComp = 0 \n",
    "    # Merge Sort\n",
    "    if len(arr) > S:\n",
    "        mid = len(arr) // 2  # floor division\n",
    "        \n",
    "        left = arr[:mid] # new subarrays left and right\n",
    "        right = arr[mid:]\n",
    "        keyComp += insertMergeSort(left, S)\n",
    "        keyComp += insertMergeSort(right, S)\n",
    "\n",
    "        # merge\n",
    "        # index to keep track of arr\n",
    "        index = a = b = 0\n",
    "\n",
    "        while a < len(left) and b < len(right):\n",
    "            keyComp += 1\n",
    "            # Case 1: left element is bigger\n",
    "            if left[a] < right[b]:\n",
    "                arr[index] = left[a]  # write into arr (sorted array)\n",
    "                a += 1\n",
    "                # \"remove\" the element from left sublist\n",
    "                \n",
    "            # Case 2: right element is bigger\n",
    "            elif left[a] > right[b]:\n",
    "                arr[index] = right[b]  # write into arr (sorted array)\n",
    "                b += 1\n",
    "                # \"remove\" the element from right sublist\n",
    "                \n",
    "            # Case 3: both elements have the same key value\n",
    "            else:\n",
    "                arr[index] = left[a]\n",
    "                a += 1\n",
    "                index += 1\n",
    "                arr[index] = right[b]\n",
    "                b += 1\n",
    "            index += 1\n",
    "\n",
    "        # Check for remaining elements\n",
    "        # Only one of these loops will run\n",
    "        while a < len(left):\n",
    "            arr[index] = left[a]\n",
    "            a += 1\n",
    "            index += 1\n",
    "        while b < len(right):\n",
    "            arr[index] = right[b]\n",
    "            b += 1\n",
    "            index += 1\n",
    "            \n",
    "    # Insertion Sort\n",
    "    else:\n",
    "        for i in range(1, len(arr)):\n",
    "            for j in range(i, 0, -1):\n",
    "                keyComp += 1\n",
    "                if arr[j] < arr[j - 1]:\n",
    "                    arr[j], arr[j - 1] = arr[j - 1], arr[j]\n",
    "                else:\n",
    "                    break\n",
    "\n",
    "    return keyComp  # report key comparisons\n",
    "####################################################################"
   ]
  },
  {
   "cell_type": "markdown",
   "id": "fc77ff81",
   "metadata": {},
   "source": [
    "### (b) Generate input data: Generate arrays of increasing sizes, in a range from 1,000 to 10 million."
   ]
  },
  {
   "cell_type": "code",
   "execution_count": 32,
   "id": "1b0a6a10",
   "metadata": {},
   "outputs": [],
   "source": [
    "######################## INPUT GENERATOR ########################\n",
    "### input: array size, largest integer allowed | output: array\n",
    "def inputGen(sizeArr, x):\n",
    "    returnList = []\n",
    "    for i in range(0, sizeArr):\n",
    "        n = random.randint(1, x)\n",
    "        returnList.append(n)\n",
    "    return returnList\n",
    "################################################################"
   ]
  },
  {
   "cell_type": "markdown",
   "id": "d6522ef8",
   "metadata": {},
   "source": [
    "### Helper Functions"
   ]
  },
  {
   "cell_type": "code",
   "execution_count": 33,
   "id": "56c24ea8",
   "metadata": {},
   "outputs": [],
   "source": [
    "##################### printList #####################\n",
    "### input: array | output: N/A (print to console)\n",
    "def printList(arr):\n",
    "    for i in range(len(arr)):\n",
    "        print(arr[i], end=\" \")\n",
    "    print()\n",
    "####################################################"
   ]
  },
  {
   "cell_type": "code",
   "execution_count": 34,
   "id": "8b3385f6",
   "metadata": {},
   "outputs": [],
   "source": [
    "##################### plotGraphFromDF #####################\n",
    "### input: dataframe with two columns, X and Y | output: N/A (pop-up window with plot)\n",
    "def plotGraphFromDF(df):\n",
    "    plt.plot(df[df.columns[0]], df[df.columns[1]])\n",
    "    plt.title(df.columns[1] + ' against ' + df.columns[0])\n",
    "    plt.ylabel(df.columns[1])\n",
    "    plt.xlabel(df.columns[0])\n",
    "    plt.yscale('linear')\n",
    "    plt.xscale('linear')\n",
    "\n",
    "plt.show()\n",
    "####################################################"
   ]
  },
  {
   "cell_type": "markdown",
   "id": "792b1913",
   "metadata": {},
   "source": [
    "### (c) Analyze time complexity"
   ]
  },
  {
   "cell_type": "markdown",
   "id": "5b2d73d5",
   "metadata": {},
   "source": [
    "#### Cursory note 1: Deciding on the value of x (the largest number of the array)"
   ]
  },
  {
   "cell_type": "code",
   "execution_count": 35,
   "id": "066b1ff4",
   "metadata": {},
   "outputs": [
    {
     "data": {
      "image/png": "[encoded data removed]",
      "text/plain": [
       "<Figure size 432x288 with 1 Axes>"
      ]
     },
     "metadata": {
      "needs_background": "light"
     },
     "output_type": "display_data"
    }
   ],
   "source": [
    "S = 4\n",
    "keyCompArr = []\n",
    "keyCompArrOfArr = []\n",
    "df = pd.DataFrame(size for size in range(2000,3000))\n",
    "df.columns = ['Size of Array']\n",
    "loops = 4\n",
    "\n",
    "x=5\n",
    "for loop in range(loops):\n",
    "    keyCompArr = []\n",
    "    for i in df['Size of Array']:\n",
    "        arr = inputGen(i, x)\n",
    "        keyCompArr.append(insertMergeSort(arr, S))\n",
    "    plt.plot(df['Size of Array'], keyCompArr, label = \"Run \" + str(loop))\n",
    "    \n",
    "plt.legend()\n",
    "plt.title(\"Number of Key Comparisons against Input Array Size when chosen x is small\")\n",
    "plt.ylabel(\"Number of Key Comparisons\")\n",
    "plt.xlabel(\"Input Array Size\")\n",
    "plt.yscale('linear')\n",
    "plt.xscale('linear')\n",
    "plt.show()"
   ]
  },
  {
   "cell_type": "code",
   "execution_count": 36,
   "id": "804eba29",
   "metadata": {},
   "outputs": [
    {
     "data": {
      "image/png": "[encoded data removed]",
      "text/plain": [
       "<Figure size 432x288 with 1 Axes>"
      ]
     },
     "metadata": {
      "needs_background": "light"
     },
     "output_type": "display_data"
    }
   ],
   "source": [
    "S = 4\n",
    "keyCompArr = []\n",
    "keyCompArrOfArr = []\n",
    "df = pd.DataFrame(size for size in range(2000,3000))\n",
    "df.columns = ['Size of Array']\n",
    "loops = 4\n",
    "\n",
    "x=1000000\n",
    "for loop in range(loops):\n",
    "    keyCompArr = []\n",
    "    for i in df['Size of Array']:\n",
    "        arr = inputGen(i, x)\n",
    "        keyCompArr.append(insertMergeSort(arr, S))\n",
    "    plt.plot(df['Size of Array'], keyCompArr, label = \"Run \" + str(loop))\n",
    "    \n",
    "plt.legend()\n",
    "plt.title(\"Number of Key Comparisons against Input Array Size when chosen x is large (>input array size)\")\n",
    "plt.ylabel(\"Number of Key Comparisons\")\n",
    "plt.xlabel(\"Input Array Size\")\n",
    "plt.yscale('linear')\n",
    "plt.xscale('linear')\n",
    "plt.show()"
   ]
  },
  {
   "cell_type": "markdown",
   "id": "d9176b1b",
   "metadata": {},
   "source": [
    "As seen from comparing the two graphs, the variability of the number of key comparisons is greater when x is small. This is because, with small x, there is a higher probability of having duplicate keys in the array, resulting in less key comparisons when sorting.\n",
    "\n",
    "**Hence, there is a need to select a sufficiently high value of x to minimise duplicate keys and hence reduce the variance in key comparisons**\n",
    "\n",
    "Formally, if x is less than the array size, there will definitely be duplicate keys (pigeonhole principle), although the inverse is not true (we can still have duplicate keys with high x by the nature of random number generator)"
   ]
  },
  {
   "cell_type": "markdown",
   "id": "1ce58f6f",
   "metadata": {},
   "source": [
    "### i. With the value of S fixed, plot the number of key comparisons over different sizes of the input list n."
   ]
  },
  {
   "cell_type": "code",
   "execution_count": 37,
   "id": "990c9093",
   "metadata": {},
   "outputs": [
    {
     "data": {
      "text/html": [
       "<div>\n",
       "<style scoped>\n",
       "    .dataframe tbody tr th:only-of-type {\n",
       "        vertical-align: middle;\n",
       "    }\n",
       "\n",
       "    .dataframe tbody tr th {\n",
       "        vertical-align: top;\n",
       "    }\n",
       "\n",
       "    .dataframe thead th {\n",
       "        text-align: right;\n",
       "    }\n",
       "</style>\n",
       "<table border=\"1\" class=\"dataframe\">\n",
       "  <thead>\n",
       "    <tr style=\"text-align: right;\">\n",
       "      <th></th>\n",
       "      <th>sizeArr</th>\n",
       "      <th>keyCompArr</th>\n",
       "    </tr>\n",
       "  </thead>\n",
       "  <tbody>\n",
       "    <tr>\n",
       "      <th>0</th>\n",
       "      <td>1000</td>\n",
       "      <td>8755</td>\n",
       "    </tr>\n",
       "    <tr>\n",
       "      <th>1</th>\n",
       "      <td>3000</td>\n",
       "      <td>30905</td>\n",
       "    </tr>\n",
       "    <tr>\n",
       "      <th>2</th>\n",
       "      <td>5000</td>\n",
       "      <td>55261</td>\n",
       "    </tr>\n",
       "    <tr>\n",
       "      <th>3</th>\n",
       "      <td>7000</td>\n",
       "      <td>80906</td>\n",
       "    </tr>\n",
       "    <tr>\n",
       "      <th>4</th>\n",
       "      <td>9000</td>\n",
       "      <td>107374</td>\n",
       "    </tr>\n",
       "    <tr>\n",
       "      <th>5</th>\n",
       "      <td>10000</td>\n",
       "      <td>120508</td>\n",
       "    </tr>\n",
       "    <tr>\n",
       "      <th>6</th>\n",
       "      <td>30000</td>\n",
       "      <td>409829</td>\n",
       "    </tr>\n",
       "    <tr>\n",
       "      <th>7</th>\n",
       "      <td>50000</td>\n",
       "      <td>718213</td>\n",
       "    </tr>\n",
       "    <tr>\n",
       "      <th>8</th>\n",
       "      <td>70000</td>\n",
       "      <td>1041912</td>\n",
       "    </tr>\n",
       "    <tr>\n",
       "      <th>9</th>\n",
       "      <td>90000</td>\n",
       "      <td>1369231</td>\n",
       "    </tr>\n",
       "    <tr>\n",
       "      <th>10</th>\n",
       "      <td>100000</td>\n",
       "      <td>1536044</td>\n",
       "    </tr>\n",
       "    <tr>\n",
       "      <th>11</th>\n",
       "      <td>300000</td>\n",
       "      <td>5086916</td>\n",
       "    </tr>\n",
       "    <tr>\n",
       "      <th>12</th>\n",
       "      <td>500000</td>\n",
       "      <td>8852509</td>\n",
       "    </tr>\n",
       "    <tr>\n",
       "      <th>13</th>\n",
       "      <td>700000</td>\n",
       "      <td>12698802</td>\n",
       "    </tr>\n",
       "    <tr>\n",
       "      <th>14</th>\n",
       "      <td>900000</td>\n",
       "      <td>16668155</td>\n",
       "    </tr>\n",
       "    <tr>\n",
       "      <th>15</th>\n",
       "      <td>1000000</td>\n",
       "      <td>18679689</td>\n",
       "    </tr>\n",
       "    <tr>\n",
       "      <th>16</th>\n",
       "      <td>3000000</td>\n",
       "      <td>60411148</td>\n",
       "    </tr>\n",
       "    <tr>\n",
       "      <th>17</th>\n",
       "      <td>5000000</td>\n",
       "      <td>104037463</td>\n",
       "    </tr>\n",
       "    <tr>\n",
       "      <th>18</th>\n",
       "      <td>7000000</td>\n",
       "      <td>148632907</td>\n",
       "    </tr>\n",
       "    <tr>\n",
       "      <th>19</th>\n",
       "      <td>9000000</td>\n",
       "      <td>193877303</td>\n",
       "    </tr>\n",
       "  </tbody>\n",
       "</table>\n",
       "</div>"
      ],
      "text/plain": [
       "    sizeArr keyCompArr\n",
       "0      1000       8755\n",
       "1      3000      30905\n",
       "2      5000      55261\n",
       "3      7000      80906\n",
       "4      9000     107374\n",
       "5     10000     120508\n",
       "6     30000     409829\n",
       "7     50000     718213\n",
       "8     70000    1041912\n",
       "9     90000    1369231\n",
       "10   100000    1536044\n",
       "11   300000    5086916\n",
       "12   500000    8852509\n",
       "13   700000   12698802\n",
       "14   900000   16668155\n",
       "15  1000000   18679689\n",
       "16  3000000   60411148\n",
       "17  5000000  104037463\n",
       "18  7000000  148632907\n",
       "19  9000000  193877303"
      ]
     },
     "execution_count": 37,
     "metadata": {},
     "output_type": "execute_result"
    }
   ],
   "source": [
    "S = 4\n",
    "df = pd.DataFrame(columns = ['sizeArr', 'keyCompArr']) # Create empty dataframe\n",
    "\n",
    "for i in range(3,7,1):\n",
    "    for j in range(1, 11, 2):\n",
    "        arr = inputGen(j * pow(10,i), pow(10,7)) # for 1*1000, 3*1000, ..., 11*1000, 1*10000, 3*10000, ...\n",
    "        keyComp = insertMergeSort(arr, S)\n",
    "    \n",
    "        df = df.append({'sizeArr' : j * pow(10,i), 'keyCompArr' : keyComp}, \n",
    "                ignore_index = True) # Append row\n",
    "df"
   ]
  },
  {
   "cell_type": "code",
   "execution_count": 38,
   "id": "669758cb",
   "metadata": {},
   "outputs": [
    {
     "data": {
      "image/png": "[encoded data removed]",
      "text/plain": [
       "<Figure size 432x288 with 1 Axes>"
      ]
     },
     "metadata": {
      "needs_background": "light"
     },
     "output_type": "display_data"
    }
   ],
   "source": [
    "plotGraphFromDF(\n",
    "    pd.DataFrame(\n",
    "        {\n",
    "            'Size of Array'          : df['sizeArr'],\n",
    "            'No. of Key Comparisons' : df['keyCompArr']\n",
    "        }\n",
    "    )\n",
    ")"
   ]
  },
  {
   "cell_type": "markdown",
   "id": "a1ef1e14",
   "metadata": {},
   "source": [
    "### ii. With the input size n fixed, plot the number of key comparisons over different values of S. Compare your empirical results with your theoretical analysis of the time complexity.\n",
    "\n",
    "Let n = 10,000 for the sake of this comparison. Since S supposed to be a small integer, test S = 1 to S = 20."
   ]
  },
  {
   "cell_type": "code",
   "execution_count": 39,
   "id": "96e27bbf",
   "metadata": {},
   "outputs": [
    {
     "data": {
      "text/html": [
       "<div>\n",
       "<style scoped>\n",
       "    .dataframe tbody tr th:only-of-type {\n",
       "        vertical-align: middle;\n",
       "    }\n",
       "\n",
       "    .dataframe tbody tr th {\n",
       "        vertical-align: top;\n",
       "    }\n",
       "\n",
       "    .dataframe thead th {\n",
       "        text-align: right;\n",
       "    }\n",
       "</style>\n",
       "<table border=\"1\" class=\"dataframe\">\n",
       "  <thead>\n",
       "    <tr style=\"text-align: right;\">\n",
       "      <th></th>\n",
       "      <th>S</th>\n",
       "      <th>keyCompArr</th>\n",
       "    </tr>\n",
       "  </thead>\n",
       "  <tbody>\n",
       "    <tr>\n",
       "      <th>0</th>\n",
       "      <td>1</td>\n",
       "      <td>116740</td>\n",
       "    </tr>\n",
       "    <tr>\n",
       "      <th>1</th>\n",
       "      <td>2</td>\n",
       "      <td>116740</td>\n",
       "    </tr>\n",
       "    <tr>\n",
       "      <th>2</th>\n",
       "      <td>3</td>\n",
       "      <td>116719</td>\n",
       "    </tr>\n",
       "    <tr>\n",
       "      <th>3</th>\n",
       "      <td>4</td>\n",
       "      <td>116780</td>\n",
       "    </tr>\n",
       "    <tr>\n",
       "      <th>4</th>\n",
       "      <td>5</td>\n",
       "      <td>117786</td>\n",
       "    </tr>\n",
       "    <tr>\n",
       "      <th>5</th>\n",
       "      <td>6</td>\n",
       "      <td>117786</td>\n",
       "    </tr>\n",
       "    <tr>\n",
       "      <th>6</th>\n",
       "      <td>7</td>\n",
       "      <td>117786</td>\n",
       "    </tr>\n",
       "    <tr>\n",
       "      <th>7</th>\n",
       "      <td>8</td>\n",
       "      <td>117786</td>\n",
       "    </tr>\n",
       "    <tr>\n",
       "      <th>8</th>\n",
       "      <td>9</td>\n",
       "      <td>118815</td>\n",
       "    </tr>\n",
       "    <tr>\n",
       "      <th>9</th>\n",
       "      <td>10</td>\n",
       "      <td>123349</td>\n",
       "    </tr>\n",
       "    <tr>\n",
       "      <th>10</th>\n",
       "      <td>11</td>\n",
       "      <td>123349</td>\n",
       "    </tr>\n",
       "    <tr>\n",
       "      <th>11</th>\n",
       "      <td>12</td>\n",
       "      <td>123349</td>\n",
       "    </tr>\n",
       "    <tr>\n",
       "      <th>12</th>\n",
       "      <td>13</td>\n",
       "      <td>123349</td>\n",
       "    </tr>\n",
       "    <tr>\n",
       "      <th>13</th>\n",
       "      <td>14</td>\n",
       "      <td>123349</td>\n",
       "    </tr>\n",
       "    <tr>\n",
       "      <th>14</th>\n",
       "      <td>15</td>\n",
       "      <td>123349</td>\n",
       "    </tr>\n",
       "    <tr>\n",
       "      <th>15</th>\n",
       "      <td>16</td>\n",
       "      <td>123349</td>\n",
       "    </tr>\n",
       "    <tr>\n",
       "      <th>16</th>\n",
       "      <td>17</td>\n",
       "      <td>123349</td>\n",
       "    </tr>\n",
       "    <tr>\n",
       "      <th>17</th>\n",
       "      <td>18</td>\n",
       "      <td>123349</td>\n",
       "    </tr>\n",
       "    <tr>\n",
       "      <th>18</th>\n",
       "      <td>19</td>\n",
       "      <td>130739</td>\n",
       "    </tr>\n",
       "  </tbody>\n",
       "</table>\n",
       "</div>"
      ],
      "text/plain": [
       "     S keyCompArr\n",
       "0    1     116740\n",
       "1    2     116740\n",
       "2    3     116719\n",
       "3    4     116780\n",
       "4    5     117786\n",
       "5    6     117786\n",
       "6    7     117786\n",
       "7    8     117786\n",
       "8    9     118815\n",
       "9   10     123349\n",
       "10  11     123349\n",
       "11  12     123349\n",
       "12  13     123349\n",
       "13  14     123349\n",
       "14  15     123349\n",
       "15  16     123349\n",
       "16  17     123349\n",
       "17  18     123349\n",
       "18  19     130739"
      ]
     },
     "execution_count": 39,
     "metadata": {},
     "output_type": "execute_result"
    }
   ],
   "source": [
    "df2 = pd.DataFrame(columns = ['S', 'keyCompArr']) # Create empty dataframe\n",
    "arr2 = inputGen(pow(10,4), pow(10,4)) # Test on the same array\n",
    "    \n",
    "for i in range(1,20,1):\n",
    "    tempArr = arr2.copy()\n",
    "    keyComp = insertMergeSort(tempArr, i)\n",
    "    df2 = df2.append({'S' : i, 'keyCompArr' : keyComp}, \n",
    "                ignore_index = True) # Append row\n",
    "    \n",
    "df2"
   ]
  },
  {
   "cell_type": "code",
   "execution_count": 40,
   "id": "01d4af85",
   "metadata": {},
   "outputs": [
    {
     "data": {
      "image/png": "[encoded data removed]",
      "text/plain": [
       "<Figure size 432x288 with 1 Axes>"
      ]
     },
     "metadata": {
      "needs_background": "light"
     },
     "output_type": "display_data"
    }
   ],
   "source": [
    "plotGraphFromDF(\n",
    "    pd.DataFrame(\n",
    "        {\n",
    "            'S'                      : df2['S'],\n",
    "            'No. of Key Comparisons' : df2['keyCompArr']\n",
    "        }\n",
    "    )\n",
    ")"
   ]
  },
  {
   "cell_type": "markdown",
   "id": "d4ad9eb7",
   "metadata": {},
   "source": [
    "### iii. Using different sizes of input datasets, study how to determine an optimal value of S for the best performance of this hybrid algorithm."
   ]
  },
  {
   "cell_type": "code",
   "execution_count": null,
   "id": "88836836",
   "metadata": {},
   "outputs": [],
   "source": [
    "df3 = pd.DataFrame(columns = ['S', 'Input Size', 'Key Comparisons']) # Create empty dataframe\n",
    "    \n",
    "for S in range(1,10,1):\n",
    "    for inputSize in [1000, 5000, 10000, 20000, 50000, 100000, 1000000]:\n",
    "        keyComp = insertMergeSort(inputGen(inputSize, pow(10,4)), S)\n",
    "        df3 = df3.append({'S' : S, 'Input Size' : inputSize, 'Key Comparisons' : keyComp}, \n",
    "                ignore_index = True) # Append row\n",
    "    \n",
    "df3"
   ]
  },
  {
   "cell_type": "markdown",
   "id": "dae3a2a5",
   "metadata": {},
   "source": [
    "### d) Compare with original Mergesort: Implement the original version of Mergesort (as learnt in lecture). Compare its performance against the above hybrid algorithm in terms of the number of key comparisons and CPU times on the dataset with 10 million integers. You can use the optimal value of S obtained in (c) for this task."
   ]
  },
  {
   "cell_type": "code",
   "execution_count": 13,
   "id": "fc0caf04",
   "metadata": {},
   "outputs": [],
   "source": [
    "#################### MERGESORT ####################\n",
    "#### input: array, threshold integer | output: key comparisons\n",
    "def mergeSort(arr, S):\n",
    "    keyComp = 0\n",
    "    if len(arr) > 1:\n",
    "        mid = len(arr) // 2  # floor division\n",
    "\n",
    "        left = arr[:mid]\n",
    "        right = arr[mid:]\n",
    "        keyComp += insertMergeSort(left, S)\n",
    "        keyComp += insertMergeSort(right, S)\n",
    "\n",
    "        # merge\n",
    "        # index to keep track of arr\n",
    "        index = a = b = 0\n",
    "\n",
    "        while a < len(left) and b < len(right):\n",
    "            keyComp += 1\n",
    "            if left[a] < right[b]:\n",
    "                arr[index] = left[a]  # write into arr (sorted array)\n",
    "                a += 1\n",
    "                # \"remove\" the element from left sublist\n",
    "            elif left[a] > right[b]:\n",
    "                arr[index] = right[b]  # write into arr (sorted array)\n",
    "                b += 1\n",
    "                # \"remove\" the element from right sublist\n",
    "            else:\n",
    "                arr[index] = left[a]\n",
    "                a += 1\n",
    "                index += 1\n",
    "                arr[index] = right[b]\n",
    "                b += 1\n",
    "            index += 1\n",
    "\n",
    "        # Check for remaining elements\n",
    "        # Only one of these loops will run\n",
    "        while a < len(left):\n",
    "            arr[index] = left[a]\n",
    "            a += 1\n",
    "            index += 1\n",
    "        while b < len(right):\n",
    "            arr[index] = right[b]\n",
    "            b += 1\n",
    "            index += 1\n",
    "\n",
    "    return keyComp  # report key comparisons\n",
    "####################################################################"
   ]
  },
  {
   "cell_type": "code",
   "execution_count": 14,
   "id": "a31c0223",
   "metadata": {},
   "outputs": [
    {
     "name": "stdout",
     "output_type": "stream",
     "text": [
      "Done\n"
     ]
    }
   ],
   "source": [
    "S = 4 # input optimal S here\n",
    "arr3 = inputGen(pow(10,7), pow(10,7)) # array of 10 million integers\n",
    "arr4 = arr3.copy()\n",
    "\n",
    "t1_start = process_time()  # For insertMergeSort\n",
    "kc1 = insertMergeSort(arr3, S)\n",
    "t1_stop = process_time()  \n",
    "\n",
    "t2_start = process_time()  # For insertMergeSort\n",
    "kc2 = mergeSort(arr4, S)\n",
    "t2_stop = process_time()  "
   ]
  },
  {
   "cell_type": "markdown",
   "id": "e085a8ab",
   "metadata": {},
   "source": [
    "**Hybrid Insertion-Mergesort:**"
   ]
  },
  {
   "cell_type": "code",
   "execution_count": 15,
   "id": "42d8eb7e",
   "metadata": {},
   "outputs": [
    {
     "name": "stdout",
     "output_type": "stream",
     "text": [
      "No. of key comparisons:  216443264\n",
      "Elapsed time during the whole program in seconds: 98.20883799999956\n"
     ]
    }
   ],
   "source": [
    "print(\"No. of key comparisons: \", kc1, end=\"\\n\")\n",
    "print(\"Elapsed time during the whole program in seconds:\",t1_stop - t1_start)  "
   ]
  },
  {
   "cell_type": "markdown",
   "id": "d6ba1469",
   "metadata": {},
   "source": [
    "**Classic Mergesort:**"
   ]
  },
  {
   "cell_type": "code",
   "execution_count": 16,
   "id": "c961aade",
   "metadata": {},
   "outputs": [
    {
     "name": "stdout",
     "output_type": "stream",
     "text": [
      "No. of key comparisons:  216443264\n",
      "Elapsed time during the whole program in seconds: 96.75649599999997\n"
     ]
    }
   ],
   "source": [
    "print(\"No. of key comparisons: \", kc2, end=\"\\n\")\n",
    "print(\"Elapsed time during the whole program in seconds:\",t2_stop - t2_start) "
   ]
  }
 ],
 "metadata": {
  "kernelspec": {
   "display_name": "Python 3 (ipykernel)",
   "language": "python",
   "name": "python3"
  },
  "language_info": {
   "codemirror_mode": {
    "name": "ipython",
    "version": 3
   },
   "file_extension": ".py",
   "mimetype": "text/x-python",
   "name": "python",
   "nbconvert_exporter": "python",
   "pygments_lexer": "ipython3",
   "version": "3.9.7"
  }
 },
 "nbformat": 4,
 "nbformat_minor": 5
}
