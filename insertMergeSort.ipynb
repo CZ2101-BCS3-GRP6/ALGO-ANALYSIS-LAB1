{
 "cells": [
  {
   "cell_type": "code",
   "execution_count": 1,
   "metadata": {},
   "outputs": [],
   "source": [
    "from time import process_time\n",
    "import random"
   ]
  },
  {
   "cell_type": "code",
   "execution_count": 2,
   "metadata": {},
   "outputs": [],
   "source": [
    "def insertMergeSort(arr, S):\n",
    "    keyComp = 0\n",
    "    if len(arr) > S:\n",
    "        mid = len(arr) // 2  # floor division\n",
    "\n",
    "        left = arr[:mid]\n",
    "        right = arr[mid:]\n",
    "        keyComp += insertMergeSort(left, S)\n",
    "        keyComp += insertMergeSort(right, S)\n",
    "\n",
    "        # merge\n",
    "        # index to keep track of arr\n",
    "        index = 0\n",
    "\n",
    "        while len(left) > 0 and len(right) > 0:\n",
    "            keyComp += 1\n",
    "            if left[0] < right[0]:\n",
    "                arr[index] = left[0]  # write into arr (sorted array)\n",
    "                left.pop(0)\n",
    "                # remove the element from left sublist\n",
    "            else:\n",
    "                arr[index] = right[0]  # write into arr (sorted array)\n",
    "                right.pop(0)\n",
    "                # remove the element from right sublist\n",
    "            index += 1\n",
    "\n",
    "        # Check for remaining elements\n",
    "        # Only one of these loops will run\n",
    "        while len(left) != 0:\n",
    "            arr[index] = left[0]\n",
    "            left.pop(0)\n",
    "            index += 1\n",
    "        while len(right) != 0:\n",
    "            arr[index] = right[0]\n",
    "            right.pop(0)\n",
    "            index += 1\n",
    "    else:\n",
    "        # Insertion Sort\n",
    "        for i in range(1, len(arr)):\n",
    "            for j in range(i, 0, -1):\n",
    "                keyComp += 1\n",
    "                if arr[j] < arr[j - 1]:\n",
    "                    arr[j], arr[j - 1] = arr[j - 1], arr[j]\n",
    "                else:\n",
    "                    break\n",
    "\n",
    "    return keyComp  # report key comparisons\n",
    "\n",
    "\n",
    "def printList(arr):\n",
    "    for i in range(len(arr)):\n",
    "        print(arr[i], end=\" \")\n",
    "    print()\n",
    "\n",
    "\n",
    "def generateData(size):\n",
    "    return [random.randrange(1, size, 1) for i in range(size)]"
   ]
  },
  {
   "cell_type": "code",
   "execution_count": 3,
   "metadata": {},
   "outputs": [],
   "source": [
    "t1_start = process_time()  #Get start time\n",
    "\n",
    "bigArr = generateData(100000) # Make large array with random elements\n",
    "kc = insertMergeSort(bigArr, 4)\n",
    "t1_stop = process_time()  #Get end time"
   ]
  },
  {
   "cell_type": "code",
   "execution_count": 4,
   "metadata": {},
   "outputs": [
    {
     "name": "stdout",
     "output_type": "stream",
     "text": [
      "No. of key comparisons:  1536634\n",
      "Elapsed time during the whole program in seconds: 2.18736\n"
     ]
    }
   ],
   "source": [
    "print(\"No. of key comparisons: \", kc, end=\"\\n\")\n",
    "print(\"Elapsed time during the whole program in seconds:\",t1_stop - t1_start)  #Elapsed Time"
   ]
  },
  {
   "cell_type": "code",
   "execution_count": null,
   "metadata": {},
   "outputs": [],
   "source": []
  }
 ],
 "metadata": {
  "kernelspec": {
   "display_name": "Python 3",
   "language": "python",
   "name": "python3"
  },
  "language_info": {
   "codemirror_mode": {
    "name": "ipython",
    "version": 3
   },
   "file_extension": ".py",
   "mimetype": "text/x-python",
   "name": "python",
   "nbconvert_exporter": "python",
   "pygments_lexer": "ipython3",
   "version": "3.8.3"
  }
 },
 "nbformat": 4,
 "nbformat_minor": 4
}
