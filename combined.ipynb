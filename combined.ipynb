{
 "cells": [
  {
   "cell_type": "markdown",
   "metadata": {},
   "source": [
    "# CE2101/CZ2101 ALGORITHM DESIGN AND ANALYSIS\n",
    "# Project 1: Integration of Mergesort & Insertion Sort"
   ]
  },
  {
   "cell_type": "code",
   "execution_count": 1,
   "metadata": {},
   "outputs": [],
   "source": [
    "import random\n",
    "from time import process_time\n",
    "import numpy as np\n",
    "import matplotlib.pyplot as plt\n",
    "import pandas as pd\n",
    "\n",
    "pd.set_option('display.max_rows', None)"
   ]
  },
  {
   "cell_type": "markdown",
   "metadata": {},
   "source": [
    "### (a) Algorithm implementation: Implement the above hybrid algorithm."
   ]
  },
  {
   "cell_type": "code",
   "execution_count": 2,
   "metadata": {},
   "outputs": [],
   "source": [
    "#################### MERGESORT & INSERTION SORT ####################\n",
    "#### input: array, threshold integer | output: key comparisons\n",
    "def insertMergeSort(arr, S):\n",
    "    keyComp = 0 \n",
    "    # Merge Sort\n",
    "    if len(arr) > S:\n",
    "        mid = len(arr) // 2  # floor division\n",
    "        \n",
    "        left = arr[:mid] # new subarrays left and right\n",
    "        right = arr[mid:]\n",
    "        keyComp += insertMergeSort(left, S)\n",
    "        keyComp += insertMergeSort(right, S)\n",
    "\n",
    "        # merge\n",
    "        # index to keep track of arr\n",
    "        index = a = b = 0\n",
    "\n",
    "        while a < len(left) and b < len(right):\n",
    "            keyComp += 1\n",
    "            # Case 1: left element is bigger\n",
    "            if left[a] < right[b]:\n",
    "                arr[index] = left[a]  # write into arr (sorted array)\n",
    "                a += 1\n",
    "                # \"remove\" the element from left sublist\n",
    "                \n",
    "            # Case 2: right element is bigger\n",
    "            elif left[a] > right[b]:\n",
    "                arr[index] = right[b]  # write into arr (sorted array)\n",
    "                b += 1\n",
    "                # \"remove\" the element from right sublist\n",
    "                \n",
    "            # Case 3: both elements have the same key value\n",
    "            else:\n",
    "                arr[index] = left[a]\n",
    "                a += 1\n",
    "                index += 1\n",
    "                arr[index] = right[b]\n",
    "                b += 1\n",
    "            index += 1\n",
    "\n",
    "        # Check for remaining elements\n",
    "        # Only one of these loops will run\n",
    "        while a < len(left):\n",
    "            arr[index] = left[a]\n",
    "            a += 1\n",
    "            index += 1\n",
    "        while b < len(right):\n",
    "            arr[index] = right[b]\n",
    "            b += 1\n",
    "            index += 1\n",
    "            \n",
    "    # Insertion Sort\n",
    "    else:\n",
    "        for i in range(1, len(arr)):\n",
    "            for j in range(i, 0, -1):\n",
    "                keyComp += 1\n",
    "                if arr[j] < arr[j - 1]:\n",
    "                    arr[j], arr[j - 1] = arr[j - 1], arr[j]\n",
    "                else:\n",
    "                    break\n",
    "\n",
    "    return keyComp  # report key comparisons\n",
    "####################################################################"
   ]
  },
  {
   "cell_type": "markdown",
   "metadata": {},
   "source": [
    "### (b) Generate input data: Generate arrays of increasing sizes, in a range from 1,000 to 10 million."
   ]
  },
  {
   "cell_type": "code",
   "execution_count": 3,
   "metadata": {},
   "outputs": [],
   "source": [
    "######################## INPUT GENERATOR ########################\n",
    "### input: array size, largest integer allowed | output: array\n",
    "def inputGen(sizeArr, x):\n",
    "    returnList = []\n",
    "    for i in range(0, sizeArr):\n",
    "        n = random.randint(1, x)\n",
    "        returnList.append(n)\n",
    "    return returnList\n",
    "################################################################"
   ]
  },
  {
   "cell_type": "markdown",
   "metadata": {},
   "source": [
    "### Helper Functions"
   ]
  },
  {
   "cell_type": "code",
   "execution_count": 4,
   "metadata": {},
   "outputs": [],
   "source": [
    "##################### printList #####################\n",
    "### input: array | output: N/A (print to console)\n",
    "def printList(arr):\n",
    "    for i in range(len(arr)):\n",
    "        print(arr[i], end=\" \")\n",
    "    print()\n",
    "####################################################"
   ]
  },
  {
   "cell_type": "code",
   "execution_count": 5,
   "metadata": {},
   "outputs": [],
   "source": [
    "##################### plotGraphFromDF #####################\n",
    "### input: dataframe with two columns, X and Y | output: N/A (pop-up window with plot)\n",
    "def plotGraphFromDF(df):\n",
    "    plt.plot(df[df.columns[0]], df[df.columns[1]])\n",
    "    plt.title(df.columns[1] + ' against ' + df.columns[0])\n",
    "    plt.ylabel(df.columns[1])\n",
    "    plt.xlabel(df.columns[0])\n",
    "    plt.yscale('linear')\n",
    "    plt.xscale('linear')\n",
    "\n",
    "plt.show()\n",
    "####################################################"
   ]
  },
  {
   "cell_type": "markdown",
   "metadata": {},
   "source": [
    "### (c) Analyze time complexity"
   ]
  },
  {
   "cell_type": "markdown",
   "metadata": {},
   "source": [
    "#### Cursory note 1: Deciding on the value of x (the largest number of the array)"
   ]
  },
  {
   "cell_type": "code",
   "execution_count": null,
   "metadata": {},
   "outputs": [],
   "source": [
    "S = 4\n",
    "keyCompArr = []\n",
    "keyCompArrOfArr = []\n",
    "df = pd.DataFrame(size for size in range(2000,3000))\n",
    "df.columns = ['Size of Array']\n",
    "loops = 4\n",
    "\n",
    "x=5\n",
    "for loop in range(loops):\n",
    "    keyCompArr = []\n",
    "    for i in df['Size of Array']:\n",
    "        arr = inputGen(i, x)\n",
    "        keyCompArr.append(insertMergeSort(arr, S))\n",
    "    plt.plot(df['Size of Array'], keyCompArr, label = \"Run \" + str(loop))\n",
    "    \n",
    "plt.legend()\n",
    "plt.title(\"Number of Key Comparisons against Input Array Size when chosen x is small\")\n",
    "plt.ylabel(\"Number of Key Comparisons\")\n",
    "plt.xlabel(\"Input Array Size\")\n",
    "plt.yscale('linear')\n",
    "plt.xscale('linear')\n",
    "plt.show()"
   ]
  },
  {
   "cell_type": "code",
   "execution_count": null,
   "metadata": {},
   "outputs": [],
   "source": [
    "S = 4\n",
    "keyCompArr = []\n",
    "keyCompArrOfArr = []\n",
    "df = pd.DataFrame(size for size in range(2000,3000))\n",
    "df.columns = ['Size of Array']\n",
    "loops = 4\n",
    "\n",
    "x=1000000\n",
    "for loop in range(loops):\n",
    "    keyCompArr = []\n",
    "    for i in df['Size of Array']:\n",
    "        arr = inputGen(i, x)\n",
    "        keyCompArr.append(insertMergeSort(arr, S))\n",
    "    plt.plot(df['Size of Array'], keyCompArr, label = \"Run \" + str(loop))\n",
    "    \n",
    "plt.legend()\n",
    "plt.title(\"Number of Key Comparisons against Input Array Size when chosen x is large (>input array size)\")\n",
    "plt.ylabel(\"Number of Key Comparisons\")\n",
    "plt.xlabel(\"Input Array Size\")\n",
    "plt.yscale('linear')\n",
    "plt.xscale('linear')\n",
    "plt.show()"
   ]
  },
  {
   "cell_type": "markdown",
   "metadata": {},
   "source": [
    "As seen from comparing the two graphs, the variability of the number of key comparisons is greater when x is small. This is because, with small x, there is a higher probability of having duplicate keys in the array, resulting in less key comparisons when sorting.\n",
    "\n",
    "**Hence, there is a need to select a sufficiently high value of x to minimise duplicate keys and hence reduce the variance in key comparisons**\n",
    "\n",
    "Formally, if x is less than the array size, there will definitely be duplicate keys (pigeonhole principle), although the inverse is not true (we can still have duplicate keys with high x by the nature of random number generator)"
   ]
  },
  {
   "cell_type": "markdown",
   "metadata": {},
   "source": [
    "### i. With the value of S fixed, plot the number of key comparisons over different sizes of the input list n."
   ]
  },
  {
   "cell_type": "code",
   "execution_count": null,
   "metadata": {},
   "outputs": [],
   "source": [
    "S = 4\n",
    "df = pd.DataFrame(columns = ['sizeArr', 'keyCompArr']) # Create empty dataframe\n",
    "\n",
    "for i in range(3,7,1):\n",
    "    for j in range(1, 11, 2):\n",
    "        arr = inputGen(j * pow(10,i), pow(10,7)) # for 1*1000, 3*1000, ..., 11*1000, 1*10000, 3*10000, ...\n",
    "        keyComp = insertMergeSort(arr, S)\n",
    "    \n",
    "        df = df.append({'sizeArr' : j * pow(10,i), 'keyCompArr' : keyComp}, \n",
    "                ignore_index = True) # Append row\n",
    "df"
   ]
  },
  {
   "cell_type": "code",
   "execution_count": null,
   "metadata": {},
   "outputs": [],
   "source": [
    "plotGraphFromDF(\n",
    "    pd.DataFrame(\n",
    "        {\n",
    "            'Size of Array'          : df['sizeArr'],\n",
    "            'No. of Key Comparisons' : df['keyCompArr']\n",
    "        }\n",
    "    )\n",
    ")"
   ]
  },
  {
   "cell_type": "markdown",
   "metadata": {},
   "source": [
    "### ii. With the input size n fixed, plot the number of key comparisons over different values of S. Compare your empirical results with your theoretical analysis of the time complexity.\n",
    "\n",
    "Let n = 10,000 for the sake of this comparison. Since S supposed to be a small integer, test S = 1 to S = 32."
   ]
  },
  {
   "cell_type": "code",
   "execution_count": null,
   "metadata": {},
   "outputs": [],
   "source": [
    "df2 = pd.DataFrame(columns = ['S', 'keyCompArr']) # Create empty dataframe\n",
    "arr2 = inputGen(pow(10,4), pow(10,4)) # Test on the same array\n",
    "    \n",
    "for i in range(1,32,1):\n",
    "    tempArr = arr2.copy()\n",
    "    keyComp = insertMergeSort(tempArr, i)\n",
    "    df2 = df2.append({'S' : i, 'keyCompArr' : keyComp}, \n",
    "                ignore_index = True) # Append row\n",
    "    \n",
    "df2"
   ]
  },
  {
   "cell_type": "code",
   "execution_count": null,
   "metadata": {},
   "outputs": [],
   "source": [
    "plotGraphFromDF(\n",
    "    pd.DataFrame(\n",
    "        {\n",
    "            'S'                      : df2['S'],\n",
    "            'No. of Key Comparisons' : df2['keyCompArr']\n",
    "        }\n",
    "    )\n",
    ")"
   ]
  },
  {
   "cell_type": "markdown",
   "metadata": {},
   "source": [
    "Theoretical analysis:\n",
    "Taking an array of 16 elements i.e. n = 16\n",
    "\n",
    "No. of subarray for S = 4 - 7 has 4 subarrays\n",
    "No. of subarray for S = 2 - 3 has 8 subarrays"
   ]
  },
  {
   "cell_type": "markdown",
   "metadata": {},
   "source": [
    "### iii. Using different sizes of input datasets, study how to determine an optimal value of S for the best performance of this hybrid algorithm."
   ]
  },
  {
   "cell_type": "code",
   "execution_count": null,
   "metadata": {
    "scrolled": true
   },
   "outputs": [],
   "source": [
    "df3 = pd.DataFrame(columns = ['Input Size', 'S', 'Key Comparisons', 'CPU Time']) # Create empty dataframe\n",
    "   \n",
    "for inputSize in [1000, 2000, 4000, 8000, 16000, 32000, 64000, 128000, 256000, 512000, 1024000, 2048000, 4096000, 10000000]:\n",
    "    for S in range(1,32,1):\n",
    "        t1_start = process_time()  # For insertMergeSort\n",
    "        keyComp = insertMergeSort(inputGen(inputSize, inputSize), S)\n",
    "        t1_stop = process_time()\n",
    "        df3 = df3.append({'Input Size' : inputSize, 'S' : S, 'Key Comparisons' : keyComp, 'CPU Time' : t1_stop - t1_start}, \n",
    "                ignore_index = True) # Append row\n",
    "    \n",
    "df3"
   ]
  },
  {
   "cell_type": "code",
   "execution_count": null,
   "metadata": {},
   "outputs": [],
   "source": [
    "KeyComps = df3.pivot(index='Input Size', columns='S', values='Key Comparisons')\n",
    "KeyComps"
   ]
  },
  {
   "cell_type": "code",
   "execution_count": null,
   "metadata": {},
   "outputs": [],
   "source": [
    "KeyComps.plot(figsize=(10,10))"
   ]
  },
  {
   "cell_type": "code",
   "execution_count": null,
   "metadata": {},
   "outputs": [],
   "source": [
    "CPUTime = df3.pivot(index='Input Size', columns='S', values='CPU Time')\n",
    "CPUTime"
   ]
  },
  {
   "cell_type": "code",
   "execution_count": null,
   "metadata": {},
   "outputs": [],
   "source": [
    "CPUTime.plot(figsize=(10,10))"
   ]
  },
  {
   "cell_type": "markdown",
   "metadata": {},
   "source": [
    "#### Difference is most pronounced at high input sizes, so let's first examine that"
   ]
  },
  {
   "cell_type": "code",
   "execution_count": null,
   "metadata": {},
   "outputs": [],
   "source": [
    "pd.DataFrame(CPUTime.iloc[-1]).sort_values(by=pd.DataFrame(CPUTime.iloc[-1]).columns[0])"
   ]
  },
  {
   "cell_type": "code",
   "execution_count": null,
   "metadata": {},
   "outputs": [],
   "source": [
    "pd.DataFrame(KeyComps.iloc[-1]).sort_values(by=pd.DataFrame(KeyComps.iloc[-1]).columns[0])"
   ]
  },
  {
   "cell_type": "markdown",
   "metadata": {},
   "source": [
    "S = 3 by key comparisons, S = 9 by CPU time"
   ]
  },
  {
   "cell_type": "markdown",
   "metadata": {},
   "source": [
    "#### Can we find a consensus value?"
   ]
  },
  {
   "cell_type": "code",
   "execution_count": null,
   "metadata": {},
   "outputs": [],
   "source": [
    "cputimeBestS = pd.DataFrame(columns = ['Input Size', 'Best S']) # Create empty dataframe\n",
    "\n",
    "for i in range(len(CPUTime)):\n",
    "    cputimeBestS = cputimeBestS.append({'Input Size' : CPUTime.iloc[i].name, 'Best S' : CPUTime.iloc[i].sort_values().index[0]}, \n",
    "                ignore_index = True) # Append row\n",
    "    \n",
    "cputimeBestS"
   ]
  },
  {
   "cell_type": "code",
   "execution_count": null,
   "metadata": {},
   "outputs": [],
   "source": [
    "keycompBestS = pd.DataFrame(columns = ['Input Size', 'Best S']) # Create empty dataframe\n",
    "\n",
    "for i in range(len(KeyComps)):\n",
    "    keycompBestS = keycompBestS.append({'Input Size' : KeyComps.iloc[i].name, 'Best S' : KeyComps.iloc[i].sort_values().index[0]}, \n",
    "                ignore_index = True) # Append row\n",
    "\n",
    "keycompBestS"
   ]
  },
  {
   "cell_type": "markdown",
   "metadata": {},
   "source": [
    "There is no observable pattern. Based on key comparisons, the ideal S ranges from 1-3. However based on CPU time, the range has a wider variance."
   ]
  },
  {
   "cell_type": "markdown",
   "metadata": {},
   "source": [
    "### d) Compare with original Mergesort: Implement the original version of Mergesort (as learnt in lecture). Compare its performance against the above hybrid algorithm in terms of the number of key comparisons and CPU times on the dataset with 10 million integers. You can use the optimal value of S obtained in (c) for this task."
   ]
  },
  {
   "cell_type": "code",
   "execution_count": 7,
   "metadata": {},
   "outputs": [],
   "source": [
    "#################### MERGESORT ####################\n",
    "#### input: array, threshold integer | output: key comparisons\n",
    "def mergeSort(arr):\n",
    "    keyComp = 0\n",
    "    if len(arr) > 1:\n",
    "        mid = len(arr) // 2  # floor division\n",
    "\n",
    "        left = arr[:mid]\n",
    "        right = arr[mid:]\n",
    "        keyComp += mergeSort(left)\n",
    "        keyComp += mergeSort(right)\n",
    "\n",
    "        # merge\n",
    "        # index to keep track of arr\n",
    "        index = a = b = 0\n",
    "\n",
    "        while a < len(left) and b < len(right):\n",
    "            keyComp += 1\n",
    "            if left[a] < right[b]:\n",
    "                arr[index] = left[a]  # write into arr (sorted array)\n",
    "                a += 1\n",
    "                # \"remove\" the element from left sublist\n",
    "            elif left[a] > right[b]:\n",
    "                arr[index] = right[b]  # write into arr (sorted array)\n",
    "                b += 1\n",
    "                # \"remove\" the element from right sublist\n",
    "            else:\n",
    "                arr[index] = left[a]\n",
    "                a += 1\n",
    "                index += 1\n",
    "                arr[index] = right[b]\n",
    "                b += 1\n",
    "            index += 1\n",
    "\n",
    "        # Check for remaining elements\n",
    "        # Only one of these loops will run\n",
    "        while a < len(left):\n",
    "            arr[index] = left[a]\n",
    "            a += 1\n",
    "            index += 1\n",
    "        while b < len(right):\n",
    "            arr[index] = right[b]\n",
    "            b += 1\n",
    "            index += 1\n",
    "\n",
    "    return keyComp  # report key comparisons\n",
    "####################################################################"
   ]
  },
  {
   "cell_type": "code",
   "execution_count": 8,
   "metadata": {},
   "outputs": [],
   "source": [
    "# Ideal S value based on key comparisons\n",
    "S = 3 # input optimal S here\n",
    "arr3 = inputGen(pow(10,7), pow(10,7)) # array of 10 million integers\n",
    "arr4 = arr3.copy()\n",
    "\n",
    "t1_start = process_time()  # For insertMergeSort\n",
    "kc1 = insertMergeSort(arr3, S)\n",
    "t1_stop = process_time()  \n",
    "\n",
    "t2_start = process_time()  # For insertMergeSort\n",
    "kc2 = mergeSort(arr4)\n",
    "t2_stop = process_time()  "
   ]
  },
  {
   "cell_type": "markdown",
   "metadata": {},
   "source": [
    "**Hybrid Insertion-Mergesort:**"
   ]
  },
  {
   "cell_type": "code",
   "execution_count": 9,
   "metadata": {},
   "outputs": [
    {
     "name": "stdout",
     "output_type": "stream",
     "text": [
      "No. of key comparisons:  216323387\n",
      "Elapsed time during the whole program in seconds: 102.353775\n"
     ]
    }
   ],
   "source": [
    "print(\"No. of key comparisons: \", kc1, end=\"\\n\")\n",
    "print(\"Elapsed time during the whole program in seconds:\",t1_stop - t1_start)  "
   ]
  },
  {
   "cell_type": "markdown",
   "metadata": {},
   "source": [
    "**Classic Mergesort:**"
   ]
  },
  {
   "cell_type": "code",
   "execution_count": 10,
   "metadata": {},
   "outputs": [
    {
     "name": "stdout",
     "output_type": "stream",
     "text": [
      "No. of key comparisons:  216322192\n",
      "Elapsed time during the whole program in seconds: 101.569331\n"
     ]
    }
   ],
   "source": [
    "print(\"No. of key comparisons: \", kc2, end=\"\\n\")\n",
    "print(\"Elapsed time during the whole program in seconds:\",t2_stop - t2_start) "
   ]
  },
  {
   "cell_type": "code",
   "execution_count": 11,
   "metadata": {},
   "outputs": [],
   "source": [
    "# Ideal S value based on CPU time\n",
    "S = 9 # input optimal S here\n",
    "arr5 = inputGen(pow(10,7), pow(10,7)) # array of 10 million integers\n",
    "arr6 = arr5.copy()\n",
    "\n",
    "t3_start = process_time()  # For insertMergeSort\n",
    "kc3 = insertMergeSort(arr5, S)\n",
    "t3_stop = process_time()  \n",
    "\n",
    "t4_start = process_time()  # For insertMergeSort\n",
    "kc4 = mergeSort(arr6)\n",
    "t4_stop = process_time()  "
   ]
  },
  {
   "cell_type": "markdown",
   "metadata": {},
   "source": [
    "**Hybrid Insertion-Mergesort:**"
   ]
  },
  {
   "cell_type": "code",
   "execution_count": 12,
   "metadata": {},
   "outputs": [
    {
     "name": "stdout",
     "output_type": "stream",
     "text": [
      "No. of key comparisons:  219369863\n",
      "Elapsed time during the whole program in seconds: 99.533105\n"
     ]
    }
   ],
   "source": [
    "print(\"No. of key comparisons: \", kc3, end=\"\\n\")\n",
    "print(\"Elapsed time during the whole program in seconds:\",t3_stop - t3_start)  "
   ]
  },
  {
   "cell_type": "markdown",
   "metadata": {},
   "source": [
    "**Classic Mergesort:**"
   ]
  },
  {
   "cell_type": "code",
   "execution_count": 13,
   "metadata": {},
   "outputs": [
    {
     "name": "stdout",
     "output_type": "stream",
     "text": [
      "No. of key comparisons:  216322326\n",
      "Elapsed time during the whole program in seconds: 106.18109099999998\n"
     ]
    }
   ],
   "source": [
    "print(\"No. of key comparisons: \", kc4, end=\"\\n\")\n",
    "print(\"Elapsed time during the whole program in seconds:\",t4_stop - t4_start)  "
   ]
  },
  {
   "cell_type": "code",
   "execution_count": null,
   "metadata": {},
   "outputs": [],
   "source": []
  },
  {
   "cell_type": "code",
   "execution_count": 14,
   "metadata": {},
   "outputs": [
    {
     "name": "stdout",
     "output_type": "stream",
     "text": [
      "For Hybrid:\n",
      "No. of key comparisons:  219371199\n",
      "Elapsed time during the whole program in seconds: 96.87863599999997\n",
      "For mergesort:\n",
      "No. of key comparisons:  216322197\n",
      "Elapsed time during the whole program in seconds: 103.05455899999993\n"
     ]
    }
   ],
   "source": [
    "# Ideal S value based on CPU time\n",
    "S = 9 # input optimal S here\n",
    "arr5 = inputGen(pow(10,7), pow(10,7)) # array of 10 million integers\n",
    "arr6 = arr5.copy()\n",
    "\n",
    "t3_start = process_time()  # For insertMergeSort\n",
    "kc3 = insertMergeSort(arr5, S)\n",
    "t3_stop = process_time()  \n",
    "\n",
    "t4_start = process_time()  # For insertMergeSort\n",
    "kc4 = mergeSort(arr6)\n",
    "t4_stop = process_time()\n",
    "\n",
    "print(\"For Hybrid:\")\n",
    "print(\"No. of key comparisons: \", kc3, end=\"\\n\")\n",
    "print(\"Elapsed time during the whole program in seconds:\",t3_stop - t3_start)  \n",
    "print(\"For mergesort:\")\n",
    "print(\"No. of key comparisons: \", kc4, end=\"\\n\")\n",
    "print(\"Elapsed time during the whole program in seconds:\",t4_stop - t4_start)  "
   ]
  },
  {
   "cell_type": "code",
   "execution_count": 15,
   "metadata": {},
   "outputs": [
    {
     "name": "stdout",
     "output_type": "stream",
     "text": [
      "For Hybrid:\n",
      "No. of key comparisons:  219364039\n",
      "Elapsed time during the whole program in seconds: 99.76985400000001\n",
      "For mergesort:\n",
      "No. of key comparisons:  216319758\n",
      "Elapsed time during the whole program in seconds: 105.92901300000005\n"
     ]
    }
   ],
   "source": [
    "# Ideal S value based on CPU time\n",
    "S = 9 # input optimal S here\n",
    "arr5 = inputGen(pow(10,7), pow(10,7)) # array of 10 million integers\n",
    "arr6 = arr5.copy()\n",
    "\n",
    "t3_start = process_time()  # For insertMergeSort\n",
    "kc3 = insertMergeSort(arr5, S)\n",
    "t3_stop = process_time()  \n",
    "\n",
    "t4_start = process_time()  # For insertMergeSort\n",
    "kc4 = mergeSort(arr6)\n",
    "t4_stop = process_time()\n",
    "\n",
    "print(\"For Hybrid:\")\n",
    "print(\"No. of key comparisons: \", kc3, end=\"\\n\")\n",
    "print(\"Elapsed time during the whole program in seconds:\",t3_stop - t3_start)  \n",
    "print(\"For mergesort:\")\n",
    "print(\"No. of key comparisons: \", kc4, end=\"\\n\")\n",
    "print(\"Elapsed time during the whole program in seconds:\",t4_stop - t4_start)  "
   ]
  },
  {
   "cell_type": "code",
   "execution_count": 16,
   "metadata": {},
   "outputs": [
    {
     "name": "stdout",
     "output_type": "stream",
     "text": [
      "For Hybrid:\n",
      "No. of key comparisons:  219372353\n",
      "Elapsed time during the whole program in seconds: 100.27184799999998\n",
      "For mergesort:\n",
      "No. of key comparisons:  216324391\n",
      "Elapsed time during the whole program in seconds: 111.41600100000005\n"
     ]
    }
   ],
   "source": [
    "# Ideal S value based on CPU time\n",
    "S = 9 # input optimal S here\n",
    "arr5 = inputGen(pow(10,7), pow(10,7)) # array of 10 million integers\n",
    "arr6 = arr5.copy()\n",
    "\n",
    "t3_start = process_time()  # For insertMergeSort\n",
    "kc3 = insertMergeSort(arr5, S)\n",
    "t3_stop = process_time()  \n",
    "\n",
    "t4_start = process_time()  # For insertMergeSort\n",
    "kc4 = mergeSort(arr6)\n",
    "t4_stop = process_time()\n",
    "\n",
    "print(\"For Hybrid:\")\n",
    "print(\"No. of key comparisons: \", kc3, end=\"\\n\")\n",
    "print(\"Elapsed time during the whole program in seconds:\",t3_stop - t3_start)  \n",
    "print(\"For mergesort:\")\n",
    "print(\"No. of key comparisons: \", kc4, end=\"\\n\")\n",
    "print(\"Elapsed time during the whole program in seconds:\",t4_stop - t4_start)  "
   ]
  },
  {
   "cell_type": "code",
   "execution_count": null,
   "metadata": {},
   "outputs": [],
   "source": []
  },
  {
   "cell_type": "code",
   "execution_count": 17,
   "metadata": {},
   "outputs": [
    {
     "name": "stdout",
     "output_type": "stream",
     "text": [
      "For Hybrid:\n",
      "No. of key comparisons:  216322096\n",
      "Elapsed time during the whole program in seconds: 116.5311979999999\n",
      "For mergesort:\n",
      "No. of key comparisons:  216322388\n",
      "Elapsed time during the whole program in seconds: 109.86709300000007\n"
     ]
    }
   ],
   "source": [
    "# Ideal S value based on key Comp\n",
    "S = 3 # input optimal S here\n",
    "arr5 = inputGen(pow(10,7), pow(10,7)) # array of 10 million integers\n",
    "arr6 = arr5.copy()\n",
    "\n",
    "t3_start = process_time()  # For insertMergeSort\n",
    "kc3 = insertMergeSort(arr5, S)\n",
    "t3_stop = process_time()  \n",
    "\n",
    "t4_start = process_time()  # For insertMergeSort\n",
    "kc4 = mergeSort(arr6)\n",
    "t4_stop = process_time()\n",
    "\n",
    "print(\"For Hybrid:\")\n",
    "print(\"No. of key comparisons: \", kc3, end=\"\\n\")\n",
    "print(\"Elapsed time during the whole program in seconds:\",t3_stop - t3_start)  \n",
    "print(\"For mergesort:\")\n",
    "print(\"No. of key comparisons: \", kc4, end=\"\\n\")\n",
    "print(\"Elapsed time during the whole program in seconds:\",t4_stop - t4_start)  "
   ]
  },
  {
   "cell_type": "code",
   "execution_count": 18,
   "metadata": {},
   "outputs": [
    {
     "name": "stdout",
     "output_type": "stream",
     "text": [
      "For Hybrid:\n",
      "No. of key comparisons:  216318073\n",
      "Elapsed time during the whole program in seconds: 103.24491899999998\n",
      "For mergesort:\n",
      "No. of key comparisons:  216318826\n",
      "Elapsed time during the whole program in seconds: 105.66356599999995\n"
     ]
    }
   ],
   "source": [
    "# Ideal S value based on key Comp\n",
    "S = 3 # input optimal S here\n",
    "arr5 = inputGen(pow(10,7), pow(10,7)) # array of 10 million integers\n",
    "arr6 = arr5.copy()\n",
    "\n",
    "t3_start = process_time()  # For insertMergeSort\n",
    "kc3 = insertMergeSort(arr5, S)\n",
    "t3_stop = process_time()  \n",
    "\n",
    "t4_start = process_time()  # For insertMergeSort\n",
    "kc4 = mergeSort(arr6)\n",
    "t4_stop = process_time()\n",
    "\n",
    "print(\"For Hybrid:\")\n",
    "print(\"No. of key comparisons: \", kc3, end=\"\\n\")\n",
    "print(\"Elapsed time during the whole program in seconds:\",t3_stop - t3_start)  \n",
    "print(\"For mergesort:\")\n",
    "print(\"No. of key comparisons: \", kc4, end=\"\\n\")\n",
    "print(\"Elapsed time during the whole program in seconds:\",t4_stop - t4_start)  "
   ]
  },
  {
   "cell_type": "code",
   "execution_count": 19,
   "metadata": {},
   "outputs": [
    {
     "name": "stdout",
     "output_type": "stream",
     "text": [
      "For Hybrid:\n",
      "No. of key comparisons:  216322771\n",
      "Elapsed time during the whole program in seconds: 107.38665500000002\n",
      "For mergesort:\n",
      "No. of key comparisons:  216323662\n",
      "Elapsed time during the whole program in seconds: 114.06250499999987\n"
     ]
    }
   ],
   "source": [
    "# Ideal S value based on key Comp\n",
    "S = 3 # input optimal S here\n",
    "arr5 = inputGen(pow(10,7), pow(10,7)) # array of 10 million integers\n",
    "arr6 = arr5.copy()\n",
    "\n",
    "t3_start = process_time()  # For insertMergeSort\n",
    "kc3 = insertMergeSort(arr5, S)\n",
    "t3_stop = process_time()  \n",
    "\n",
    "t4_start = process_time()  # For insertMergeSort\n",
    "kc4 = mergeSort(arr6)\n",
    "t4_stop = process_time()\n",
    "\n",
    "print(\"For Hybrid:\")\n",
    "print(\"No. of key comparisons: \", kc3, end=\"\\n\")\n",
    "print(\"Elapsed time during the whole program in seconds:\",t3_stop - t3_start)  \n",
    "print(\"For mergesort:\")\n",
    "print(\"No. of key comparisons: \", kc4, end=\"\\n\")\n",
    "print(\"Elapsed time during the whole program in seconds:\",t4_stop - t4_start)  "
   ]
  }
 ],
 "metadata": {
  "kernelspec": {
   "display_name": "Python 3",
   "language": "python",
   "name": "python3"
  },
  "language_info": {
   "codemirror_mode": {
    "name": "ipython",
    "version": 3
   },
   "file_extension": ".py",
   "mimetype": "text/x-python",
   "name": "python",
   "nbconvert_exporter": "python",
   "pygments_lexer": "ipython3",
   "version": "3.8.3"
  }
 },
 "nbformat": 4,
 "nbformat_minor": 5
}
