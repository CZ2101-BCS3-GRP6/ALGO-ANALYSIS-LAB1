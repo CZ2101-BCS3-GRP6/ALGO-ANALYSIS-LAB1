{
 "cells": [
  {
   "cell_type": "code",
   "execution_count": 1,
   "metadata": {},
   "outputs": [],
   "source": [
    "from time import process_time\n",
    "import random"
   ]
  },
  {
   "cell_type": "code",
   "execution_count": 2,
   "metadata": {},
   "outputs": [],
   "source": [
    "def mergeSort(arr):\n",
    "    \n",
    "    keyComp = 0\n",
    "    \n",
    "    if len(arr) > 1:\n",
    "        mid = len(arr)//2\n",
    "\n",
    "\n",
    "        left = arr[:mid]\n",
    "        right = arr[mid:]\n",
    "        keyComp += mergeSort(left)\n",
    "        keyComp += mergeSort(right)\n",
    "\n",
    "        index = a = b = 0\n",
    "\n",
    "        # Copy data to temp arrays \n",
    "        while index < len(left) and a < len(right):\n",
    "            if left[index] < right[a]:\n",
    "                arr[b] = left[index]\n",
    "                index += 1\n",
    "                keyComp+=1\n",
    "            else:\n",
    "                arr[b] = right[a]\n",
    "                a += 1\n",
    "                keyComp+=1\n",
    "            b += 1\n",
    "\n",
    "        # Checking if any element was left\n",
    "        while index < len(left):\n",
    "            arr[b] = left[index]\n",
    "            index += 1\n",
    "            b += 1\n",
    "\n",
    "        while a < len(right):\n",
    "            arr[b] = right[a]\n",
    "            a += 1\n",
    "            b += 1\n",
    "\n",
    "    return keyComp  # report key comparisons\n",
    "\n",
    "\n",
    "def printList(arr):\n",
    "    for i in range(len(arr)):\n",
    "        print(arr[i], end=\" \")\n",
    "    print()\n",
    "\n",
    "\n",
    "def generateData(size):\n",
    "    return [random.randrange(1, size, 1) for i in range(size)]"
   ]
  },
  {
   "cell_type": "code",
   "execution_count": 9,
   "metadata": {},
   "outputs": [],
   "source": [
    "t1_start = process_time()  #Get start time\n",
    "\n",
    "bigArr = generateData(10000000) # Make large array with random elements\n",
    "kc = mergeSort(bigArr)\n",
    "t1_stop = process_time()  #Get end time"
   ]
  },
  {
   "cell_type": "code",
   "execution_count": 10,
   "metadata": {},
   "outputs": [
    {
     "name": "stdout",
     "output_type": "stream",
     "text": [
      "No. of key comparisons:  220100095\n",
      "Elapsed time during the whole program in seconds: 73.714659\n"
     ]
    }
   ],
   "source": [
    "print(\"No. of key comparisons: \", kc, end=\"\\n\")\n",
    "print(\"Elapsed time during the whole program in seconds:\",t1_stop - t1_start)  #Elapsed Time"
   ]
  },
  {
   "cell_type": "code",
   "execution_count": null,
   "metadata": {},
   "outputs": [],
   "source": []
  }
 ],
 "metadata": {
  "kernelspec": {
   "display_name": "Python 3",
   "language": "python",
   "name": "python3"
  },
  "language_info": {
   "codemirror_mode": {
    "name": "ipython",
    "version": 3
   },
   "file_extension": ".py",
   "mimetype": "text/x-python",
   "name": "python",
   "nbconvert_exporter": "python",
   "pygments_lexer": "ipython3",
   "version": "3.8.3"
  }
 },
 "nbformat": 4,
 "nbformat_minor": 4
}
