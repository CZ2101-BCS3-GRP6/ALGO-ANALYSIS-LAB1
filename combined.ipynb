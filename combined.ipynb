{
 "cells": [
  {
   "cell_type": "markdown",
   "id": "3194c328",
   "metadata": {},
   "source": [
    "# CE2101/CZ2101 ALGORITHM DESIGN AND ANALYSIS\n",
    "# Project 1: Integration of Mergesort & Insertion Sort"
   ]
  },
  {
   "cell_type": "code",
   "execution_count": 1,
   "id": "ad215854",
   "metadata": {},
   "outputs": [],
   "source": [
    "import random\n",
    "from time import process_time\n",
    "import numpy as np\n",
    "import matplotlib.pyplot as plt\n",
    "import pandas as pd\n",
    "\n",
    "pd.set_option('display.max_rows', None)"
   ]
  },
  {
   "cell_type": "markdown",
   "id": "2de66c4a",
   "metadata": {},
   "source": [
    "### (a) Algorithm implementation: Implement the above hybrid algorithm."
   ]
  },
  {
   "cell_type": "code",
   "execution_count": 2,
   "id": "2701c77c",
   "metadata": {},
   "outputs": [],
   "source": [
    "#################### MERGESORT & INSERTION SORT ####################\n",
    "#### input: array, threshold integer | output: key comparisons\n",
    "def insertMergeSort(arr, S):\n",
    "    keyComp = 0 \n",
    "    # merge sort\n",
    "    if len(arr) > S:\n",
    "        mid = len(arr) // 2  # floor division\n",
    "\n",
    "        left = arr[:mid]\n",
    "        right = arr[mid:]\n",
    "        keyComp += insertMergeSort(left, S)\n",
    "        keyComp += insertMergeSort(right, S)\n",
    "\n",
    "        # merge\n",
    "        # index to keep track of arr\n",
    "        index = a = b = 0\n",
    "\n",
    "        while a < len(left) and b < len(right):\n",
    "            keyComp += 1\n",
    "            # case 1: left element is bigger\n",
    "            if left[a] < right[b]:\n",
    "                arr[index] = left[a]  # write into arr (sorted array)\n",
    "                a += 1\n",
    "                # \"remove\" the element from left sublist\n",
    "                \n",
    "            # case 2: right element is bigger\n",
    "            elif left[a] > right[b]:\n",
    "                arr[index] = right[b]  # write into arr (sorted array)\n",
    "                b += 1\n",
    "                # \"remove\" the element from right sublist\n",
    "                \n",
    "            # case 3: both elements have the same keynvalue\n",
    "            else:\n",
    "                arr[index] = left[a]\n",
    "                a += 1\n",
    "                index += 1\n",
    "                arr[index] = right[b]\n",
    "                b += 1\n",
    "            index += 1\n",
    "\n",
    "        # Check for remaining elements\n",
    "        # Only one of these loops will run\n",
    "        while a < len(left):\n",
    "            arr[index] = left[a]\n",
    "            a += 1\n",
    "            index += 1\n",
    "        while b < len(right):\n",
    "            arr[index] = right[b]\n",
    "            b += 1\n",
    "            index += 1\n",
    "            \n",
    "    # Insertion Sort\n",
    "    else:\n",
    "        for i in range(1, len(arr)):\n",
    "            for j in range(i, 0, -1):\n",
    "                keyComp += 1\n",
    "                if arr[j] < arr[j - 1]:\n",
    "                    arr[j], arr[j - 1] = arr[j - 1], arr[j]\n",
    "                else:\n",
    "                    break\n",
    "\n",
    "    return keyComp  # report key comparisons\n",
    "####################################################################"
   ]
  },
  {
   "cell_type": "markdown",
   "id": "fc77ff81",
   "metadata": {},
   "source": [
    "### (b) Generate input data: Generate arrays of increasing sizes, in a range from 1,000 to 10 million."
   ]
  },
  {
   "cell_type": "code",
   "execution_count": 3,
   "id": "1b0a6a10",
   "metadata": {},
   "outputs": [],
   "source": [
    "######################## INPUT GENERATOR ########################\n",
    "### input: array size, largest integer allowed | output: array\n",
    "def inputGen(sizeArr, x):\n",
    "    returnList = []\n",
    "    for i in range(0, sizeArr):\n",
    "        n = random.randint(1, x)\n",
    "        returnList.append(n)\n",
    "    return returnList\n",
    "################################################################"
   ]
  },
  {
   "cell_type": "markdown",
   "id": "d6522ef8",
   "metadata": {},
   "source": [
    "### Helper Functions"
   ]
  },
  {
   "cell_type": "code",
   "execution_count": 4,
   "id": "56c24ea8",
   "metadata": {},
   "outputs": [],
   "source": [
    "##################### printList #####################\n",
    "### input: array | output: N/A (print to console)\n",
    "def printList(arr):\n",
    "    for i in range(len(arr)):\n",
    "        print(arr[i], end=\" \")\n",
    "    print()\n",
    "####################################################"
   ]
  },
  {
   "cell_type": "code",
   "execution_count": 5,
   "id": "8b3385f6",
   "metadata": {},
   "outputs": [],
   "source": [
    "##################### plotGraphFromDF #####################\n",
    "### input: dataframe with two columns, X and Y | output: N/A (pop-up window with plot)\n",
    "def plotGraphFromDF(df):\n",
    "    plt.plot(df[df.columns[0]], df[df.columns[1]])\n",
    "    plt.title(df.columns[1] + ' against ' + df.columns[0])\n",
    "    plt.ylabel(df.columns[1])\n",
    "    plt.xlabel(df.columns[0])\n",
    "\n",
    "plt.show()\n",
    "####################################################"
   ]
  },
  {
   "cell_type": "markdown",
   "id": "792b1913",
   "metadata": {},
   "source": [
    "### (c) Analyze time complexity"
   ]
  },
  {
   "cell_type": "markdown",
   "id": "80e93d5d",
   "metadata": {},
   "source": [
    "#### Cursory note 1: Using key comparisons instead of time taken"
   ]
  },
  {
   "cell_type": "markdown",
   "id": "41f7c032",
   "metadata": {},
   "source": [
    "**Time taken** for an algorithm to run is highly dependent on the availability of CPU resources / presence of other programs. We would like to adopt a more theoretical framework by observing the number of **key comparisons**"
   ]
  },
  {
   "cell_type": "markdown",
   "id": "5b2d73d5",
   "metadata": {},
   "source": [
    "#### Cursory note 2: Deciding on the value of x (the largest number of the array)"
   ]
  },
  {
   "cell_type": "code",
   "execution_count": 6,
   "id": "066b1ff4",
   "metadata": {},
   "outputs": [
    {
     "data": {
      "image/png": "[encoded data removed]",
      "text/plain": [
       "<Figure size 432x288 with 1 Axes>"
      ]
     },
     "metadata": {
      "needs_background": "light"
     },
     "output_type": "display_data"
    }
   ],
   "source": [
    "S = 4\n",
    "keyCompArr = []\n",
    "keyCompArrOfArr = []\n",
    "df = pd.DataFrame(size for size in range(2000,3000))\n",
    "df.columns = ['Size of Array']\n",
    "loops = 4\n",
    "\n",
    "x=5\n",
    "for loop in range(loops):\n",
    "    keyCompArr = []\n",
    "    for i in df['Size of Array']:\n",
    "        arr = inputGen(i, x)\n",
    "        keyCompArr.append(insertMergeSort(arr, S))\n",
    "    plt.plot(df['Size of Array'], keyCompArr, label = \"Run \" + str(loop))\n",
    "    \n",
    "plt.legend()\n",
    "plt.title(\"Number of Key Comparisons against Input Array Size when chosen x is small\")\n",
    "plt.ylabel(\"Number of Key Comparisons\")\n",
    "plt.xlabel(\"Input Array Size\")\n",
    "plt.show()"
   ]
  },
  {
   "cell_type": "code",
   "execution_count": 7,
   "id": "804eba29",
   "metadata": {},
   "outputs": [
    {
     "data": {
      "image/png": "[encoded data removed]",
      "text/plain": [
       "<Figure size 432x288 with 1 Axes>"
      ]
     },
     "metadata": {
      "needs_background": "light"
     },
     "output_type": "display_data"
    }
   ],
   "source": [
    "S = 4\n",
    "keyCompArr = []\n",
    "keyCompArrOfArr = []\n",
    "df = pd.DataFrame(size for size in range(2000,3000))\n",
    "df.columns = ['Size of Array']\n",
    "loops = 4\n",
    "\n",
    "x=1000000\n",
    "for loop in range(loops):\n",
    "    keyCompArr = []\n",
    "    for i in df['Size of Array']:\n",
    "        arr = inputGen(i, x)\n",
    "        keyCompArr.append(insertMergeSort(arr, S))\n",
    "    plt.plot(df['Size of Array'], keyCompArr, label = \"Run \" + str(loop))\n",
    "    \n",
    "plt.legend()\n",
    "plt.title(\"Number of Key Comparisons against Input Array Size when chosen x is large (>input array size)\")\n",
    "plt.ylabel(\"Number of Key Comparisons\")\n",
    "plt.xlabel(\"Input Array Size\")\n",
    "plt.show()"
   ]
  },
  {
   "cell_type": "markdown",
   "id": "d9176b1b",
   "metadata": {},
   "source": [
    "As seen from comparing the two graphs, the variability of the number of key comparisons is greater when x is small. This is because, with small x, there is a higher probability of having duplicate keys in the array, resulting in less key comparisons when sorting.\n",
    "\n",
    "**Hence, there is a need to select a sufficiently high value of x to minimise duplicate keys and hence reduce the variance in key comparisons**\n",
    "\n",
    "Formally, if x is less than the array size, there will definitely be duplicate keys (pigeonhole principle), although the inverse is not true (we can still have duplicate keys with high x by the nature of random number generator)"
   ]
  },
  {
   "cell_type": "markdown",
   "id": "1ce58f6f",
   "metadata": {},
   "source": [
    "### i. With the value of S fixed, plot the number of key comparisons over different sizes of the input list n."
   ]
  },
  {
   "cell_type": "code",
   "execution_count": 9,
   "id": "990c9093",
   "metadata": {},
   "outputs": [
    {
     "data": {
      "text/html": [
       "<div>\n",
       "<style scoped>\n",
       "    .dataframe tbody tr th:only-of-type {\n",
       "        vertical-align: middle;\n",
       "    }\n",
       "\n",
       "    .dataframe tbody tr th {\n",
       "        vertical-align: top;\n",
       "    }\n",
       "\n",
       "    .dataframe thead th {\n",
       "        text-align: right;\n",
       "    }\n",
       "</style>\n",
       "<table border=\"1\" class=\"dataframe\">\n",
       "  <thead>\n",
       "    <tr style=\"text-align: right;\">\n",
       "      <th></th>\n",
       "      <th>sizeArr</th>\n",
       "      <th>keyCompArr</th>\n",
       "    </tr>\n",
       "  </thead>\n",
       "  <tbody>\n",
       "    <tr>\n",
       "      <th>0</th>\n",
       "      <td>1000</td>\n",
       "      <td>8782</td>\n",
       "    </tr>\n",
       "    <tr>\n",
       "      <th>1</th>\n",
       "      <td>3000</td>\n",
       "      <td>30920</td>\n",
       "    </tr>\n",
       "    <tr>\n",
       "      <th>2</th>\n",
       "      <td>5000</td>\n",
       "      <td>55296</td>\n",
       "    </tr>\n",
       "    <tr>\n",
       "      <th>3</th>\n",
       "      <td>7000</td>\n",
       "      <td>80967</td>\n",
       "    </tr>\n",
       "    <tr>\n",
       "      <th>4</th>\n",
       "      <td>9000</td>\n",
       "      <td>107350</td>\n",
       "    </tr>\n",
       "    <tr>\n",
       "      <th>5</th>\n",
       "      <td>10000</td>\n",
       "      <td>120530</td>\n",
       "    </tr>\n",
       "    <tr>\n",
       "      <th>6</th>\n",
       "      <td>30000</td>\n",
       "      <td>410155</td>\n",
       "    </tr>\n",
       "    <tr>\n",
       "      <th>7</th>\n",
       "      <td>50000</td>\n",
       "      <td>718489</td>\n",
       "    </tr>\n",
       "    <tr>\n",
       "      <th>8</th>\n",
       "      <td>70000</td>\n",
       "      <td>1041669</td>\n",
       "    </tr>\n",
       "    <tr>\n",
       "      <th>9</th>\n",
       "      <td>90000</td>\n",
       "      <td>1369314</td>\n",
       "    </tr>\n",
       "    <tr>\n",
       "      <th>10</th>\n",
       "      <td>100000</td>\n",
       "      <td>1536392</td>\n",
       "    </tr>\n",
       "    <tr>\n",
       "      <th>11</th>\n",
       "      <td>300000</td>\n",
       "      <td>5088009</td>\n",
       "    </tr>\n",
       "    <tr>\n",
       "      <th>12</th>\n",
       "      <td>500000</td>\n",
       "      <td>8852114</td>\n",
       "    </tr>\n",
       "    <tr>\n",
       "      <th>13</th>\n",
       "      <td>700000</td>\n",
       "      <td>12699289</td>\n",
       "    </tr>\n",
       "    <tr>\n",
       "      <th>14</th>\n",
       "      <td>900000</td>\n",
       "      <td>16668288</td>\n",
       "    </tr>\n",
       "    <tr>\n",
       "      <th>15</th>\n",
       "      <td>1000000</td>\n",
       "      <td>18678915</td>\n",
       "    </tr>\n",
       "    <tr>\n",
       "      <th>16</th>\n",
       "      <td>3000000</td>\n",
       "      <td>60411697</td>\n",
       "    </tr>\n",
       "    <tr>\n",
       "      <th>17</th>\n",
       "      <td>5000000</td>\n",
       "      <td>104041434</td>\n",
       "    </tr>\n",
       "    <tr>\n",
       "      <th>18</th>\n",
       "      <td>7000000</td>\n",
       "      <td>148633212</td>\n",
       "    </tr>\n",
       "    <tr>\n",
       "      <th>19</th>\n",
       "      <td>9000000</td>\n",
       "      <td>193880900</td>\n",
       "    </tr>\n",
       "    <tr>\n",
       "      <th>20</th>\n",
       "      <td>10000000</td>\n",
       "      <td>216441567</td>\n",
       "    </tr>\n",
       "    <tr>\n",
       "      <th>21</th>\n",
       "      <td>30000000</td>\n",
       "      <td>685188279</td>\n",
       "    </tr>\n",
       "    <tr>\n",
       "      <th>22</th>\n",
       "      <td>50000000</td>\n",
       "      <td>1164754414</td>\n",
       "    </tr>\n",
       "    <tr>\n",
       "      <th>23</th>\n",
       "      <td>70000000</td>\n",
       "      <td>1654990055</td>\n",
       "    </tr>\n",
       "    <tr>\n",
       "      <th>24</th>\n",
       "      <td>90000000</td>\n",
       "      <td>2144941701</td>\n",
       "    </tr>\n",
       "  </tbody>\n",
       "</table>\n",
       "</div>"
      ],
      "text/plain": [
       "     sizeArr  keyCompArr\n",
       "0       1000        8782\n",
       "1       3000       30920\n",
       "2       5000       55296\n",
       "3       7000       80967\n",
       "4       9000      107350\n",
       "5      10000      120530\n",
       "6      30000      410155\n",
       "7      50000      718489\n",
       "8      70000     1041669\n",
       "9      90000     1369314\n",
       "10    100000     1536392\n",
       "11    300000     5088009\n",
       "12    500000     8852114\n",
       "13    700000    12699289\n",
       "14    900000    16668288\n",
       "15   1000000    18678915\n",
       "16   3000000    60411697\n",
       "17   5000000   104041434\n",
       "18   7000000   148633212\n",
       "19   9000000   193880900\n",
       "20  10000000   216441567\n",
       "21  30000000   685188279\n",
       "22  50000000  1164754414\n",
       "23  70000000  1654990055\n",
       "24  90000000  2144941701"
      ]
     },
     "execution_count": 9,
     "metadata": {},
     "output_type": "execute_result"
    }
   ],
   "source": [
    "S = 4\n",
    "df = pd.DataFrame(columns = ['sizeArr', 'keyCompArr']) # Create empty dataframe\n",
    "\n",
    "for i in range(3,8,1):\n",
    "    for j in range(1, 10, 2):\n",
    "        arr = inputGen(j * pow(10,i), pow(10,7))\n",
    "        keyComp = insertMergeSort(arr, S)\n",
    "    \n",
    "        df = df.append({'sizeArr' : j * pow(10,i), 'keyCompArr' : keyComp}, \n",
    "                ignore_index = True) # Append row\n",
    "df"
   ]
  },
  {
   "cell_type": "code",
   "execution_count": 10,
   "id": "669758cb",
   "metadata": {},
   "outputs": [
    {
     "data": {
      "image/png": "[encoded data removed]",
      "text/plain": [
       "<Figure size 432x288 with 1 Axes>"
      ]
     },
     "metadata": {
      "needs_background": "light"
     },
     "output_type": "display_data"
    }
   ],
   "source": [
    "plotGraphFromDF(\n",
    "    pd.DataFrame(\n",
    "        {\n",
    "            'Size of Array'          : df['sizeArr'],\n",
    "            'No. of Key Comparisons' : df['keyCompArr']\n",
    "        }\n",
    "    )\n",
    ")"
   ]
  },
  {
   "cell_type": "markdown",
   "id": "a1ef1e14",
   "metadata": {},
   "source": [
    "### ii. With the input size n fixed, plot the number of key comparisons over different values of S. Compare your empirical results with your theoretical analysis of the time complexity\n",
    "\n",
    "Let n = 10,000 for the sake of this comparison\n",
    "Since S supposed to be a small integer, test S = 1 to S = 20."
   ]
  },
  {
   "cell_type": "code",
   "execution_count": 11,
   "id": "96e27bbf",
   "metadata": {},
   "outputs": [
    {
     "data": {
      "text/html": [
       "<div>\n",
       "<style scoped>\n",
       "    .dataframe tbody tr th:only-of-type {\n",
       "        vertical-align: middle;\n",
       "    }\n",
       "\n",
       "    .dataframe tbody tr th {\n",
       "        vertical-align: top;\n",
       "    }\n",
       "\n",
       "    .dataframe thead th {\n",
       "        text-align: right;\n",
       "    }\n",
       "</style>\n",
       "<table border=\"1\" class=\"dataframe\">\n",
       "  <thead>\n",
       "    <tr style=\"text-align: right;\">\n",
       "      <th></th>\n",
       "      <th>S</th>\n",
       "      <th>keyCompArr</th>\n",
       "    </tr>\n",
       "  </thead>\n",
       "  <tbody>\n",
       "    <tr>\n",
       "      <th>0</th>\n",
       "      <td>2</td>\n",
       "      <td>116675</td>\n",
       "    </tr>\n",
       "    <tr>\n",
       "      <th>1</th>\n",
       "      <td>4</td>\n",
       "      <td>116748</td>\n",
       "    </tr>\n",
       "    <tr>\n",
       "      <th>2</th>\n",
       "      <td>8</td>\n",
       "      <td>117649</td>\n",
       "    </tr>\n",
       "    <tr>\n",
       "      <th>3</th>\n",
       "      <td>16</td>\n",
       "      <td>123250</td>\n",
       "    </tr>\n",
       "    <tr>\n",
       "      <th>4</th>\n",
       "      <td>32</td>\n",
       "      <td>140256</td>\n",
       "    </tr>\n",
       "    <tr>\n",
       "      <th>5</th>\n",
       "      <td>64</td>\n",
       "      <td>179990</td>\n",
       "    </tr>\n",
       "    <tr>\n",
       "      <th>6</th>\n",
       "      <td>128</td>\n",
       "      <td>266334</td>\n",
       "    </tr>\n",
       "    <tr>\n",
       "      <th>7</th>\n",
       "      <td>256</td>\n",
       "      <td>453186</td>\n",
       "    </tr>\n",
       "    <tr>\n",
       "      <th>8</th>\n",
       "      <td>512</td>\n",
       "      <td>829038</td>\n",
       "    </tr>\n",
       "    <tr>\n",
       "      <th>9</th>\n",
       "      <td>1024</td>\n",
       "      <td>1589195</td>\n",
       "    </tr>\n",
       "  </tbody>\n",
       "</table>\n",
       "</div>"
      ],
      "text/plain": [
       "      S keyCompArr\n",
       "0     2     116675\n",
       "1     4     116748\n",
       "2     8     117649\n",
       "3    16     123250\n",
       "4    32     140256\n",
       "5    64     179990\n",
       "6   128     266334\n",
       "7   256     453186\n",
       "8   512     829038\n",
       "9  1024    1589195"
      ]
     },
     "execution_count": 11,
     "metadata": {},
     "output_type": "execute_result"
    }
   ],
   "source": [
    "df2 = pd.DataFrame(columns = ['S', 'keyCompArr']) # Create empty dataframe\n",
    "arr2 = inputGen(pow(10,4), pow(10,4)) # Test on the same array\n",
    "    \n",
    "for i in range(1,11,1):\n",
    "    tempArr = arr2.copy()\n",
    "    keyComp = insertMergeSort(tempArr, pow(2,i))\n",
    "    df2 = df2.append({'S' : pow(2,i), 'keyCompArr' : keyComp}, \n",
    "                ignore_index = True) # Append row\n",
    "    \n",
    "df2"
   ]
  },
  {
   "cell_type": "code",
   "execution_count": 12,
   "id": "01d4af85",
   "metadata": {},
   "outputs": [
    {
     "data": {
      "image/png": "[encoded data removed]",
      "text/plain": [
       "<Figure size 432x288 with 1 Axes>"
      ]
     },
     "metadata": {
      "needs_background": "light"
     },
     "output_type": "display_data"
    }
   ],
   "source": [
    "plotGraphFromDF(\n",
    "    pd.DataFrame(\n",
    "        {\n",
    "            'S'                      : df2['S'],\n",
    "            'No. of Key Comparisons' : df2['keyCompArr']\n",
    "        }\n",
    "    )\n",
    ")"
   ]
  },
  {
   "cell_type": "markdown",
   "id": "d4ad9eb7",
   "metadata": {},
   "source": [
    "### iii. Using different sizes of input datasets, study how to determine an optimal value of S for the best performance of this hybrid algorithm"
   ]
  },
  {
   "cell_type": "code",
   "execution_count": null,
   "id": "88836836",
   "metadata": {},
   "outputs": [],
   "source": []
  },
  {
   "cell_type": "markdown",
   "id": "468b27da",
   "metadata": {},
   "source": [
    "### Time Complexity for insertMergeSort (S=4)\n",
    "\n",
    "#### INSERTIONSORT PART\n",
    "- The ith iteration may have 1,2...i key comparisons, each with 1/i chance. \n",
    "- Average number of comparisons in the ith iteration: \n",
    "\n",
    "1⠀⠀⠀i⠀⠀⠀⠀⠀⠀⠀⠀⠀1\n",
    "\n",
    "–⠀⠀⠀∑⠀⠀j⠀⠀⠀=⠀⠀–⠀(1+2+...+i)\n",
    "\n",
    "i⠀⠀⠀j=1⠀⠀⠀⠀⠀⠀⠀⠀i\n",
    "\n",
    "- Hence, total complexity:\n",
    "\n",
    "S-1⠀⠀⠀1⠀⠀⠀i⠀⠀⠀⠀⠀⠀⠀⠀⠀\n",
    "\n",
    "⠀∑ ⠀(⠀–⠀⠀⠀∑⠀⠀j⠀⠀)⠀⠀⠀\n",
    "\n",
    "i=1⠀⠀⠀i⠀⠀⠀j=1⠀⠀⠀⠀⠀\n",
    "\n",
    "------\n",
    "\n",
    "S-1⠀⠀⠀1⠀⠀⠀i (i+1)⠀⠀⠀⠀⠀⠀⠀\n",
    "\n",
    "⠀∑ ⠀(⠀–⠀⠀––––––    )⠀⠀⠀\n",
    "\n",
    "i=1⠀⠀⠀i⠀⠀⠀⠀2⠀⠀⠀⠀⠀\n",
    "\n",
    "------\n",
    "\n",
    "S-1⠀⠀⠀1⠀⠀⠀⠀⠀⠀⠀⠀⠀\n",
    "\n",
    "⠀∑ ⠀(⠀–⠀⠀(i+1)   )⠀⠀⠀\n",
    "\n",
    "i=1⠀⠀⠀2⠀⠀⠀⠀⠀⠀⠀⠀⠀\n",
    "\n",
    "------\n",
    "\n",
    "= 1/2 (2+S)(S-1)/2\n",
    "\n",
    "= (S+2)(S-1)/4\n",
    "\n",
    "Since S is fixed, total time complexity = O(1)\n",
    "\n",
    "-----\n",
    "\n",
    "#### MERGESORT PART\n",
    "##### Merge function:\n",
    "- Best case, e.g. when list is already sorted allowing first sublist to traverse till end, is Θ(n/2)\n",
    "- Worst case, e.g. when list is sorted the wrong way, is Θ(n-1)\n",
    "\n",
    "##### Main function in worst case:\n",
    "\n",
    "W(n)\n",
    "\n",
    "= W(n/2) + W(n/2) + (n-1)\n",
    "    \n",
    "= 2W(n/2) + (n-1)\n",
    "    \n",
    "= 2<sup>2</sup>W(n/2<sup>2</sup>) + (n-1) + 2(n/2-1)\n",
    "    \n",
    "= 2<sup>3</sup>W(n/2<sup>3</sup>) + (n-1) + 2(n/2-1) + 2<sup>2</sup>(n/2<sup>2</sup>-1)\n",
    "    \n",
    "= ....\n",
    "\n",
    "= 2<sup>k</sup>W(n/2<sup>k</sup>) + (n-1) + 2(n/2-1) + 2<sup>2</sup>(n/2<sup>2</sup>-1) + ... + 2<sup>k</sup>(n/2<sup>k</sup>-1)\n",
    "\n",
    "For S=4, terminating condition is when 2<sup>k</sup> = n/4, hence n = 2<sup>k+2</sup> and log<sub>2</sub>n = k+2\n",
    "\n",
    "= nW(4)/4 + (n-1) + 2(n/2-1) + 2<sup>2</sup>(n/2<sup>2</sup>-1) + ... + (n-2<sup>k</sup>)\n",
    "\n",
    "= nW(4)/4 + (n-1) + (n-2) + (n-2<sup>2</sup>) ... + (n-2<sup>k</sup>)\n",
    "\n",
    "= nW(4)/4 + (n-2<sup>0</sup>) + (n-2<sup>1</sup>) + (n-2<sup>2</sup>) ... + (n-2<sup>k</sup>)\n",
    "\n",
    "= nW(4)/4 + (k+1)(n) - (2<sup>0</sup>+2<sup>1</sup>+2<sup>2</sup>...+2<sup>k</sup>)\n",
    "\n",
    "= nW(4)/4 + (k+1)(n) - (1(2<sup>k+1</sup>-1)/(2-1))\n",
    "\n",
    "= nW(4)/4 + (k+1)(n) - (2<sup>k+1</sup>-1)\n",
    "\n",
    "= nW(4)/4 + (k+1)(n) - (n/2-1)\n",
    "\n",
    "= nW(4)/4 + (log<sub>2</sub>n-1)(n) - (n/2-1)\n",
    "\n",
    "= O(n) + O(nlgn) - O(n) = O(nlgn)"
   ]
  },
  {
   "cell_type": "markdown",
   "id": "dae3a2a5",
   "metadata": {},
   "source": [
    "### d) Compare with original Mergesort: Implement the original version of Mergesort (as learnt in lecture). Compare its performance against the above hybrid algorithm in terms of the number of key comparisons and CPU times on the dataset with 10 million integers. You can use the optimal value of S obtained in (c) for this task"
   ]
  },
  {
   "cell_type": "code",
   "execution_count": 13,
   "id": "fc0caf04",
   "metadata": {},
   "outputs": [],
   "source": [
    "#################### MERGESORT ####################\n",
    "#### input: array, threshold integer | output: key comparisons\n",
    "def mergeSort(arr, S):\n",
    "    keyComp = 0\n",
    "    if len(arr) > 1:\n",
    "        mid = len(arr) // 2  # floor division\n",
    "\n",
    "        left = arr[:mid]\n",
    "        right = arr[mid:]\n",
    "        keyComp += insertMergeSort(left, S)\n",
    "        keyComp += insertMergeSort(right, S)\n",
    "\n",
    "        # merge\n",
    "        # index to keep track of arr\n",
    "        index = a = b = 0\n",
    "\n",
    "        while a < len(left) and b < len(right):\n",
    "            keyComp += 1\n",
    "            if left[a] < right[b]:\n",
    "                arr[index] = left[a]  # write into arr (sorted array)\n",
    "                a += 1\n",
    "                # \"remove\" the element from left sublist\n",
    "            elif left[a] > right[b]:\n",
    "                arr[index] = right[b]  # write into arr (sorted array)\n",
    "                b += 1\n",
    "                # \"remove\" the element from right sublist\n",
    "            else:\n",
    "                arr[index] = left[a]\n",
    "                a += 1\n",
    "                index += 1\n",
    "                arr[index] = right[b]\n",
    "                b += 1\n",
    "            index += 1\n",
    "\n",
    "        # Check for remaining elements\n",
    "        # Only one of these loops will run\n",
    "        while a < len(left):\n",
    "            arr[index] = left[a]\n",
    "            a += 1\n",
    "            index += 1\n",
    "        while b < len(right):\n",
    "            arr[index] = right[b]\n",
    "            b += 1\n",
    "            index += 1\n",
    "\n",
    "    return keyComp  # report key comparisons\n",
    "####################################################################"
   ]
  },
  {
   "cell_type": "code",
   "execution_count": 14,
   "id": "a31c0223",
   "metadata": {},
   "outputs": [
    {
     "name": "stdout",
     "output_type": "stream",
     "text": [
      "Done\n"
     ]
    }
   ],
   "source": [
    "S = 4 # input optimal S here\n",
    "arr3 = inputGen(pow(10,7), pow(10,7)) # array of 10 million integers\n",
    "arr4 = arr3.copy()\n",
    "\n",
    "t1_start = process_time()  # For insertMergeSort\n",
    "kc1 = insertMergeSort(arr3, S)\n",
    "t1_stop = process_time()  \n",
    "\n",
    "t2_start = process_time()  # For insertMergeSort\n",
    "kc2 = mergeSort(arr4, S)\n",
    "t2_stop = process_time()  \n",
    "\n",
    "\n",
    "print(\"Done\")"
   ]
  },
  {
   "cell_type": "markdown",
   "id": "e085a8ab",
   "metadata": {},
   "source": [
    "**Hybrid Insertion-Mergesort:**"
   ]
  },
  {
   "cell_type": "code",
   "execution_count": 15,
   "id": "42d8eb7e",
   "metadata": {},
   "outputs": [
    {
     "name": "stdout",
     "output_type": "stream",
     "text": [
      "No. of key comparisons:  216443264\n",
      "Elapsed time during the whole program in seconds: 98.20883799999956\n"
     ]
    }
   ],
   "source": [
    "print(\"No. of key comparisons: \", kc1, end=\"\\n\")\n",
    "print(\"Elapsed time during the whole program in seconds:\",t1_stop - t1_start)  "
   ]
  },
  {
   "cell_type": "markdown",
   "id": "d6ba1469",
   "metadata": {},
   "source": [
    "**Classic Mergesort:**"
   ]
  },
  {
   "cell_type": "code",
   "execution_count": 16,
   "id": "c961aade",
   "metadata": {},
   "outputs": [
    {
     "name": "stdout",
     "output_type": "stream",
     "text": [
      "No. of key comparisons:  216443264\n",
      "Elapsed time during the whole program in seconds: 96.75649599999997\n"
     ]
    }
   ],
   "source": [
    "print(\"No. of key comparisons: \", kc2, end=\"\\n\")\n",
    "print(\"Elapsed time during the whole program in seconds:\",t2_stop - t2_start) "
   ]
  },
  {
   "cell_type": "code",
   "execution_count": null,
   "id": "2adda942",
   "metadata": {},
   "outputs": [],
   "source": []
  }
 ],
 "metadata": {
  "kernelspec": {
   "display_name": "Python 3 (ipykernel)",
   "language": "python",
   "name": "python3"
  },
  "language_info": {
   "codemirror_mode": {
    "name": "ipython",
    "version": 3
   },
   "file_extension": ".py",
   "mimetype": "text/x-python",
   "name": "python",
   "nbconvert_exporter": "python",
   "pygments_lexer": "ipython3",
   "version": "3.8.3"
  }
 },
 "nbformat": 4,
 "nbformat_minor": 5
}
