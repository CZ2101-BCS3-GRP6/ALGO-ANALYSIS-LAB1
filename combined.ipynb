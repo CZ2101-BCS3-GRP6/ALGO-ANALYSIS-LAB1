{
 "cells": [
  {
   "cell_type": "markdown",
   "metadata": {},
   "source": [
    "# CE2101/CZ2101 ALGORITHM DESIGN AND ANALYSIS\n",
    "# Project 1: Integration of Mergesort & Insertion Sort"
   ]
  },
  {
   "cell_type": "code",
   "execution_count": 112,
   "metadata": {},
   "outputs": [],
   "source": [
    "import random\n",
    "from time import process_time\n",
    "import numpy as np\n",
    "import matplotlib.pyplot as plt\n",
    "import pandas as pd\n",
    "\n",
    "pd.set_option('display.max_rows', None)"
   ]
  },
  {
   "cell_type": "markdown",
   "metadata": {},
   "source": [
    "### (a) Algorithm implementation: Implement the above hybrid algorithm."
   ]
  },
  {
   "cell_type": "code",
   "execution_count": 113,
   "metadata": {},
   "outputs": [],
   "source": [
    "#################### MERGESORT & INSERTION SORT ####################\n",
    "#### input: array, threshold integer | output: key comparisons\n",
    "def insertMergeSort(arr, S):\n",
    "    keyComp = 0\n",
    "    if len(arr) > S:\n",
    "        mid = len(arr) // 2  # floor division\n",
    "\n",
    "        left = arr[:mid]\n",
    "        right = arr[mid:]\n",
    "        keyComp += insertMergeSort(left, S)\n",
    "        keyComp += insertMergeSort(right, S)\n",
    "\n",
    "        # merge\n",
    "        # index to keep track of arr\n",
    "        index = a = b = 0\n",
    "\n",
    "        while a < len(left) and b < len(right):\n",
    "            keyComp += 1\n",
    "            if left[a] < right[b]:\n",
    "                arr[index] = left[a]  # write into arr (sorted array)\n",
    "                a += 1\n",
    "                # \"remove\" the element from left sublist\n",
    "            elif left[a] > right[b]:\n",
    "                arr[index] = right[b]  # write into arr (sorted array)\n",
    "                b += 1\n",
    "                # \"remove\" the element from right sublist\n",
    "            else:\n",
    "                arr[index] = left[a]\n",
    "                a += 1\n",
    "                index += 1\n",
    "                arr[index] = right[b]\n",
    "                b += 1\n",
    "            index += 1\n",
    "\n",
    "        # Check for remaining elements\n",
    "        # Only one of these loops will run\n",
    "        while a < len(left):\n",
    "            arr[index] = left[a]\n",
    "            a += 1\n",
    "            index += 1\n",
    "        while b < len(right):\n",
    "            arr[index] = right[b]\n",
    "            b += 1\n",
    "            index += 1\n",
    "    else:\n",
    "        # Insertion Sort\n",
    "        for i in range(1, len(arr)):\n",
    "            for j in range(i, 0, -1):\n",
    "                keyComp += 1\n",
    "                if arr[j] < arr[j - 1]:\n",
    "                    arr[j], arr[j - 1] = arr[j - 1], arr[j]\n",
    "                else:\n",
    "                    break\n",
    "\n",
    "    return keyComp  # report key comparisons\n",
    "####################################################################"
   ]
  },
  {
   "cell_type": "markdown",
   "metadata": {},
   "source": [
    "### (b) Generate input data: Generate arrays of increasing sizes, in a range from 1,000 to 10 million."
   ]
  },
  {
   "cell_type": "code",
   "execution_count": 114,
   "metadata": {},
   "outputs": [],
   "source": [
    "######################## INPUT GENERATOR ########################\n",
    "### input: array size, largest integer allowed | output: array\n",
    "def inputGen(sizeArr, x):\n",
    "    returnList = []\n",
    "    for i in range(0, sizeArr):\n",
    "        n = random.randint(1, x)\n",
    "        returnList.append(n)\n",
    "    return returnList\n",
    "################################################################"
   ]
  },
  {
   "cell_type": "markdown",
   "metadata": {},
   "source": [
    "### Helper Functions"
   ]
  },
  {
   "cell_type": "code",
   "execution_count": 115,
   "metadata": {},
   "outputs": [],
   "source": [
    "##################### printList #####################\n",
    "### input: array | output: N/A (print to console)\n",
    "def printList(arr):\n",
    "    for i in range(len(arr)):\n",
    "        print(arr[i], end=\" \")\n",
    "    print()\n",
    "####################################################"
   ]
  },
  {
   "cell_type": "code",
   "execution_count": 116,
   "metadata": {},
   "outputs": [],
   "source": [
    "##################### plotGraphFromDF #####################\n",
    "### input: dataframe with two columns, X and Y | output: N/A (pop-up window with plot)\n",
    "def plotGraphFromDF(df):\n",
    "    plt.plot(df[df.columns[0]], df[df.columns[1]])\n",
    "    plt.title(df.columns[1] + ' against ' + df.columns[0])\n",
    "    plt.ylabel(df.columns[1])\n",
    "    plt.xlabel(df.columns[0])\n",
    "\n",
    "plt.show()\n",
    "####################################################"
   ]
  },
  {
   "cell_type": "markdown",
   "metadata": {},
   "source": [
    "### (c) Analyze time complexity"
   ]
  },
  {
   "cell_type": "markdown",
   "metadata": {},
   "source": [
    "#### Cursory note 1: Using key comparisons instead of time taken"
   ]
  },
  {
   "cell_type": "markdown",
   "metadata": {},
   "source": [
    "**Time taken** for an algorithm to run is highly dependent on the availability of CPU resources / presence of other programs. We would like to adopt a more theoretical framework by observing the number of **key comparisons**"
   ]
  },
  {
   "cell_type": "markdown",
   "metadata": {},
   "source": [
    "#### Cursory note 2: Deciding on the value of x (the largest number of the array)"
   ]
  },
  {
   "cell_type": "code",
   "execution_count": 117,
   "metadata": {},
   "outputs": [
    {
     "data": {
      "image/png": "[encoded data removed]",
      "text/plain": [
       "<Figure size 432x288 with 1 Axes>"
      ]
     },
     "metadata": {
      "needs_background": "light"
     },
     "output_type": "display_data"
    }
   ],
   "source": [
    "S = 4\n",
    "keyCompArr = []\n",
    "keyCompArrOfArr = []\n",
    "df = pd.DataFrame(size for size in range(2000,3000))\n",
    "df.columns = ['Size of Array']\n",
    "loops = 4\n",
    "\n",
    "x=5\n",
    "for loop in range(loops):\n",
    "    keyCompArr = []\n",
    "    for i in df['Size of Array']:\n",
    "        arr = inputGen(i, x)\n",
    "        keyCompArr.append(insertMergeSort(arr, S))\n",
    "    plt.plot(df['Size of Array'], keyCompArr, label = \"Run \" + str(loop))\n",
    "    \n",
    "plt.legend()\n",
    "plt.title(\"Number of Key Comparisons against Input Array Size when chosen x is small\")\n",
    "plt.ylabel(\"Number of Key Comparisons\")\n",
    "plt.xlabel(\"Input Array Size\")\n",
    "plt.show()"
   ]
  },
  {
   "cell_type": "code",
   "execution_count": 118,
   "metadata": {},
   "outputs": [
    {
     "data": {
      "image/png": "[encoded data removed]",
      "text/plain": [
       "<Figure size 432x288 with 1 Axes>"
      ]
     },
     "metadata": {
      "needs_background": "light"
     },
     "output_type": "display_data"
    }
   ],
   "source": [
    "S = 4\n",
    "keyCompArr = []\n",
    "keyCompArrOfArr = []\n",
    "df = pd.DataFrame(size for size in range(2000,3000))\n",
    "df.columns = ['Size of Array']\n",
    "loops = 4\n",
    "\n",
    "x=1000000\n",
    "for loop in range(loops):\n",
    "    keyCompArr = []\n",
    "    for i in df['Size of Array']:\n",
    "        arr = inputGen(i, x)\n",
    "        keyCompArr.append(insertMergeSort(arr, S))\n",
    "    plt.plot(df['Size of Array'], keyCompArr, label = \"Run \" + str(loop))\n",
    "    \n",
    "plt.legend()\n",
    "plt.title(\"Number of Key Comparisons against Input Array Size when chosen x is large (>input array size)\")\n",
    "plt.ylabel(\"Number of Key Comparisons\")\n",
    "plt.xlabel(\"Input Array Size\")\n",
    "plt.show()"
   ]
  },
  {
   "cell_type": "markdown",
   "metadata": {},
   "source": [
    "As seen from comparing the two graphs, the variability of the number of key comparisons is greater when x is small. This is because, with small x, there is a higher probability of having duplicate keys in the array, resulting in less key comparisons when sorting.\n",
    "\n",
    "**Hence, there is a need to select a sufficiently high value of x to minimise duplicate keys and hence reduce the variance in key comparisons**\n",
    "\n",
    "Formally, if x is less than the array size, there will definitely be duplicate keys (pigeonhole principle), although the inverse is not true (we can still have duplicate keys with high x by the nature of random number generator)"
   ]
  },
  {
   "cell_type": "markdown",
   "metadata": {},
   "source": [
    "### i. With the value of S fixed, plot the number of key comparisons over different sizes of the input list n."
   ]
  },
  {
   "cell_type": "code",
   "execution_count": 119,
   "metadata": {},
   "outputs": [
    {
     "ename": "KeyboardInterrupt",
     "evalue": "",
     "output_type": "error",
     "traceback": [
      "\u001b[0;31m---------------------------------------------------------------------------\u001b[0m",
      "\u001b[0;31mKeyboardInterrupt\u001b[0m                         Traceback (most recent call last)",
      "\u001b[0;32m<ipython-input-119-ee8b7f504926>\u001b[0m in \u001b[0;36m<module>\u001b[0;34m\u001b[0m\n\u001b[1;32m      5\u001b[0m     \u001b[0;32mfor\u001b[0m \u001b[0mj\u001b[0m \u001b[0;32min\u001b[0m \u001b[0mrange\u001b[0m\u001b[0;34m(\u001b[0m\u001b[0;36m1\u001b[0m\u001b[0;34m,\u001b[0m \u001b[0;36m10\u001b[0m\u001b[0;34m,\u001b[0m \u001b[0;36m1\u001b[0m\u001b[0;34m)\u001b[0m\u001b[0;34m:\u001b[0m\u001b[0;34m\u001b[0m\u001b[0;34m\u001b[0m\u001b[0m\n\u001b[1;32m      6\u001b[0m         \u001b[0marr\u001b[0m \u001b[0;34m=\u001b[0m \u001b[0minputGen\u001b[0m\u001b[0;34m(\u001b[0m\u001b[0mj\u001b[0m \u001b[0;34m*\u001b[0m \u001b[0mpow\u001b[0m\u001b[0;34m(\u001b[0m\u001b[0;36m10\u001b[0m\u001b[0;34m,\u001b[0m\u001b[0mi\u001b[0m\u001b[0;34m)\u001b[0m\u001b[0;34m,\u001b[0m \u001b[0mpow\u001b[0m\u001b[0;34m(\u001b[0m\u001b[0;36m10\u001b[0m\u001b[0;34m,\u001b[0m\u001b[0;36m7\u001b[0m\u001b[0;34m)\u001b[0m\u001b[0;34m)\u001b[0m\u001b[0;34m\u001b[0m\u001b[0;34m\u001b[0m\u001b[0m\n\u001b[0;32m----> 7\u001b[0;31m         \u001b[0mkeyComp\u001b[0m \u001b[0;34m=\u001b[0m \u001b[0minsertMergeSort\u001b[0m\u001b[0;34m(\u001b[0m\u001b[0marr\u001b[0m\u001b[0;34m,\u001b[0m \u001b[0mS\u001b[0m\u001b[0;34m)\u001b[0m\u001b[0;34m\u001b[0m\u001b[0;34m\u001b[0m\u001b[0m\n\u001b[0m\u001b[1;32m      8\u001b[0m \u001b[0;34m\u001b[0m\u001b[0m\n\u001b[1;32m      9\u001b[0m         df = df.append({'sizeArr' : j * pow(10,i), 'keyCompArr' : keyComp}, \n",
      "\u001b[0;32m<ipython-input-113-e600c66bf629>\u001b[0m in \u001b[0;36minsertMergeSort\u001b[0;34m(arr, S)\u001b[0m\n\u001b[1;32m      9\u001b[0m         \u001b[0mright\u001b[0m \u001b[0;34m=\u001b[0m \u001b[0marr\u001b[0m\u001b[0;34m[\u001b[0m\u001b[0mmid\u001b[0m\u001b[0;34m:\u001b[0m\u001b[0;34m]\u001b[0m\u001b[0;34m\u001b[0m\u001b[0;34m\u001b[0m\u001b[0m\n\u001b[1;32m     10\u001b[0m         \u001b[0mkeyComp\u001b[0m \u001b[0;34m+=\u001b[0m \u001b[0minsertMergeSort\u001b[0m\u001b[0;34m(\u001b[0m\u001b[0mleft\u001b[0m\u001b[0;34m,\u001b[0m \u001b[0mS\u001b[0m\u001b[0;34m)\u001b[0m\u001b[0;34m\u001b[0m\u001b[0;34m\u001b[0m\u001b[0m\n\u001b[0;32m---> 11\u001b[0;31m         \u001b[0mkeyComp\u001b[0m \u001b[0;34m+=\u001b[0m \u001b[0minsertMergeSort\u001b[0m\u001b[0;34m(\u001b[0m\u001b[0mright\u001b[0m\u001b[0;34m,\u001b[0m \u001b[0mS\u001b[0m\u001b[0;34m)\u001b[0m\u001b[0;34m\u001b[0m\u001b[0;34m\u001b[0m\u001b[0m\n\u001b[0m\u001b[1;32m     12\u001b[0m \u001b[0;34m\u001b[0m\u001b[0m\n\u001b[1;32m     13\u001b[0m         \u001b[0;31m# merge\u001b[0m\u001b[0;34m\u001b[0m\u001b[0;34m\u001b[0m\u001b[0;34m\u001b[0m\u001b[0m\n",
      "\u001b[0;32m<ipython-input-113-e600c66bf629>\u001b[0m in \u001b[0;36minsertMergeSort\u001b[0;34m(arr, S)\u001b[0m\n\u001b[1;32m      8\u001b[0m         \u001b[0mleft\u001b[0m \u001b[0;34m=\u001b[0m \u001b[0marr\u001b[0m\u001b[0;34m[\u001b[0m\u001b[0;34m:\u001b[0m\u001b[0mmid\u001b[0m\u001b[0;34m]\u001b[0m\u001b[0;34m\u001b[0m\u001b[0;34m\u001b[0m\u001b[0m\n\u001b[1;32m      9\u001b[0m         \u001b[0mright\u001b[0m \u001b[0;34m=\u001b[0m \u001b[0marr\u001b[0m\u001b[0;34m[\u001b[0m\u001b[0mmid\u001b[0m\u001b[0;34m:\u001b[0m\u001b[0;34m]\u001b[0m\u001b[0;34m\u001b[0m\u001b[0;34m\u001b[0m\u001b[0m\n\u001b[0;32m---> 10\u001b[0;31m         \u001b[0mkeyComp\u001b[0m \u001b[0;34m+=\u001b[0m \u001b[0minsertMergeSort\u001b[0m\u001b[0;34m(\u001b[0m\u001b[0mleft\u001b[0m\u001b[0;34m,\u001b[0m \u001b[0mS\u001b[0m\u001b[0;34m)\u001b[0m\u001b[0;34m\u001b[0m\u001b[0;34m\u001b[0m\u001b[0m\n\u001b[0m\u001b[1;32m     11\u001b[0m         \u001b[0mkeyComp\u001b[0m \u001b[0;34m+=\u001b[0m \u001b[0minsertMergeSort\u001b[0m\u001b[0;34m(\u001b[0m\u001b[0mright\u001b[0m\u001b[0;34m,\u001b[0m \u001b[0mS\u001b[0m\u001b[0;34m)\u001b[0m\u001b[0;34m\u001b[0m\u001b[0;34m\u001b[0m\u001b[0m\n\u001b[1;32m     12\u001b[0m \u001b[0;34m\u001b[0m\u001b[0m\n",
      "\u001b[0;32m<ipython-input-113-e600c66bf629>\u001b[0m in \u001b[0;36minsertMergeSort\u001b[0;34m(arr, S)\u001b[0m\n\u001b[1;32m      8\u001b[0m         \u001b[0mleft\u001b[0m \u001b[0;34m=\u001b[0m \u001b[0marr\u001b[0m\u001b[0;34m[\u001b[0m\u001b[0;34m:\u001b[0m\u001b[0mmid\u001b[0m\u001b[0;34m]\u001b[0m\u001b[0;34m\u001b[0m\u001b[0;34m\u001b[0m\u001b[0m\n\u001b[1;32m      9\u001b[0m         \u001b[0mright\u001b[0m \u001b[0;34m=\u001b[0m \u001b[0marr\u001b[0m\u001b[0;34m[\u001b[0m\u001b[0mmid\u001b[0m\u001b[0;34m:\u001b[0m\u001b[0;34m]\u001b[0m\u001b[0;34m\u001b[0m\u001b[0;34m\u001b[0m\u001b[0m\n\u001b[0;32m---> 10\u001b[0;31m         \u001b[0mkeyComp\u001b[0m \u001b[0;34m+=\u001b[0m \u001b[0minsertMergeSort\u001b[0m\u001b[0;34m(\u001b[0m\u001b[0mleft\u001b[0m\u001b[0;34m,\u001b[0m \u001b[0mS\u001b[0m\u001b[0;34m)\u001b[0m\u001b[0;34m\u001b[0m\u001b[0;34m\u001b[0m\u001b[0m\n\u001b[0m\u001b[1;32m     11\u001b[0m         \u001b[0mkeyComp\u001b[0m \u001b[0;34m+=\u001b[0m \u001b[0minsertMergeSort\u001b[0m\u001b[0;34m(\u001b[0m\u001b[0mright\u001b[0m\u001b[0;34m,\u001b[0m \u001b[0mS\u001b[0m\u001b[0;34m)\u001b[0m\u001b[0;34m\u001b[0m\u001b[0;34m\u001b[0m\u001b[0m\n\u001b[1;32m     12\u001b[0m \u001b[0;34m\u001b[0m\u001b[0m\n",
      "\u001b[0;32m<ipython-input-113-e600c66bf629>\u001b[0m in \u001b[0;36minsertMergeSort\u001b[0;34m(arr, S)\u001b[0m\n\u001b[1;32m      9\u001b[0m         \u001b[0mright\u001b[0m \u001b[0;34m=\u001b[0m \u001b[0marr\u001b[0m\u001b[0;34m[\u001b[0m\u001b[0mmid\u001b[0m\u001b[0;34m:\u001b[0m\u001b[0;34m]\u001b[0m\u001b[0;34m\u001b[0m\u001b[0;34m\u001b[0m\u001b[0m\n\u001b[1;32m     10\u001b[0m         \u001b[0mkeyComp\u001b[0m \u001b[0;34m+=\u001b[0m \u001b[0minsertMergeSort\u001b[0m\u001b[0;34m(\u001b[0m\u001b[0mleft\u001b[0m\u001b[0;34m,\u001b[0m \u001b[0mS\u001b[0m\u001b[0;34m)\u001b[0m\u001b[0;34m\u001b[0m\u001b[0;34m\u001b[0m\u001b[0m\n\u001b[0;32m---> 11\u001b[0;31m         \u001b[0mkeyComp\u001b[0m \u001b[0;34m+=\u001b[0m \u001b[0minsertMergeSort\u001b[0m\u001b[0;34m(\u001b[0m\u001b[0mright\u001b[0m\u001b[0;34m,\u001b[0m \u001b[0mS\u001b[0m\u001b[0;34m)\u001b[0m\u001b[0;34m\u001b[0m\u001b[0;34m\u001b[0m\u001b[0m\n\u001b[0m\u001b[1;32m     12\u001b[0m \u001b[0;34m\u001b[0m\u001b[0m\n\u001b[1;32m     13\u001b[0m         \u001b[0;31m# merge\u001b[0m\u001b[0;34m\u001b[0m\u001b[0;34m\u001b[0m\u001b[0;34m\u001b[0m\u001b[0m\n",
      "\u001b[0;32m<ipython-input-113-e600c66bf629>\u001b[0m in \u001b[0;36minsertMergeSort\u001b[0;34m(arr, S)\u001b[0m\n\u001b[1;32m      8\u001b[0m         \u001b[0mleft\u001b[0m \u001b[0;34m=\u001b[0m \u001b[0marr\u001b[0m\u001b[0;34m[\u001b[0m\u001b[0;34m:\u001b[0m\u001b[0mmid\u001b[0m\u001b[0;34m]\u001b[0m\u001b[0;34m\u001b[0m\u001b[0;34m\u001b[0m\u001b[0m\n\u001b[1;32m      9\u001b[0m         \u001b[0mright\u001b[0m \u001b[0;34m=\u001b[0m \u001b[0marr\u001b[0m\u001b[0;34m[\u001b[0m\u001b[0mmid\u001b[0m\u001b[0;34m:\u001b[0m\u001b[0;34m]\u001b[0m\u001b[0;34m\u001b[0m\u001b[0;34m\u001b[0m\u001b[0m\n\u001b[0;32m---> 10\u001b[0;31m         \u001b[0mkeyComp\u001b[0m \u001b[0;34m+=\u001b[0m \u001b[0minsertMergeSort\u001b[0m\u001b[0;34m(\u001b[0m\u001b[0mleft\u001b[0m\u001b[0;34m,\u001b[0m \u001b[0mS\u001b[0m\u001b[0;34m)\u001b[0m\u001b[0;34m\u001b[0m\u001b[0;34m\u001b[0m\u001b[0m\n\u001b[0m\u001b[1;32m     11\u001b[0m         \u001b[0mkeyComp\u001b[0m \u001b[0;34m+=\u001b[0m \u001b[0minsertMergeSort\u001b[0m\u001b[0;34m(\u001b[0m\u001b[0mright\u001b[0m\u001b[0;34m,\u001b[0m \u001b[0mS\u001b[0m\u001b[0;34m)\u001b[0m\u001b[0;34m\u001b[0m\u001b[0;34m\u001b[0m\u001b[0m\n\u001b[1;32m     12\u001b[0m \u001b[0;34m\u001b[0m\u001b[0m\n",
      "\u001b[0;32m<ipython-input-113-e600c66bf629>\u001b[0m in \u001b[0;36minsertMergeSort\u001b[0;34m(arr, S)\u001b[0m\n\u001b[1;32m      8\u001b[0m         \u001b[0mleft\u001b[0m \u001b[0;34m=\u001b[0m \u001b[0marr\u001b[0m\u001b[0;34m[\u001b[0m\u001b[0;34m:\u001b[0m\u001b[0mmid\u001b[0m\u001b[0;34m]\u001b[0m\u001b[0;34m\u001b[0m\u001b[0;34m\u001b[0m\u001b[0m\n\u001b[1;32m      9\u001b[0m         \u001b[0mright\u001b[0m \u001b[0;34m=\u001b[0m \u001b[0marr\u001b[0m\u001b[0;34m[\u001b[0m\u001b[0mmid\u001b[0m\u001b[0;34m:\u001b[0m\u001b[0;34m]\u001b[0m\u001b[0;34m\u001b[0m\u001b[0;34m\u001b[0m\u001b[0m\n\u001b[0;32m---> 10\u001b[0;31m         \u001b[0mkeyComp\u001b[0m \u001b[0;34m+=\u001b[0m \u001b[0minsertMergeSort\u001b[0m\u001b[0;34m(\u001b[0m\u001b[0mleft\u001b[0m\u001b[0;34m,\u001b[0m \u001b[0mS\u001b[0m\u001b[0;34m)\u001b[0m\u001b[0;34m\u001b[0m\u001b[0;34m\u001b[0m\u001b[0m\n\u001b[0m\u001b[1;32m     11\u001b[0m         \u001b[0mkeyComp\u001b[0m \u001b[0;34m+=\u001b[0m \u001b[0minsertMergeSort\u001b[0m\u001b[0;34m(\u001b[0m\u001b[0mright\u001b[0m\u001b[0;34m,\u001b[0m \u001b[0mS\u001b[0m\u001b[0;34m)\u001b[0m\u001b[0;34m\u001b[0m\u001b[0;34m\u001b[0m\u001b[0m\n\u001b[1;32m     12\u001b[0m \u001b[0;34m\u001b[0m\u001b[0m\n",
      "\u001b[0;32m<ipython-input-113-e600c66bf629>\u001b[0m in \u001b[0;36minsertMergeSort\u001b[0;34m(arr, S)\u001b[0m\n\u001b[1;32m      9\u001b[0m         \u001b[0mright\u001b[0m \u001b[0;34m=\u001b[0m \u001b[0marr\u001b[0m\u001b[0;34m[\u001b[0m\u001b[0mmid\u001b[0m\u001b[0;34m:\u001b[0m\u001b[0;34m]\u001b[0m\u001b[0;34m\u001b[0m\u001b[0;34m\u001b[0m\u001b[0m\n\u001b[1;32m     10\u001b[0m         \u001b[0mkeyComp\u001b[0m \u001b[0;34m+=\u001b[0m \u001b[0minsertMergeSort\u001b[0m\u001b[0;34m(\u001b[0m\u001b[0mleft\u001b[0m\u001b[0;34m,\u001b[0m \u001b[0mS\u001b[0m\u001b[0;34m)\u001b[0m\u001b[0;34m\u001b[0m\u001b[0;34m\u001b[0m\u001b[0m\n\u001b[0;32m---> 11\u001b[0;31m         \u001b[0mkeyComp\u001b[0m \u001b[0;34m+=\u001b[0m \u001b[0minsertMergeSort\u001b[0m\u001b[0;34m(\u001b[0m\u001b[0mright\u001b[0m\u001b[0;34m,\u001b[0m \u001b[0mS\u001b[0m\u001b[0;34m)\u001b[0m\u001b[0;34m\u001b[0m\u001b[0;34m\u001b[0m\u001b[0m\n\u001b[0m\u001b[1;32m     12\u001b[0m \u001b[0;34m\u001b[0m\u001b[0m\n\u001b[1;32m     13\u001b[0m         \u001b[0;31m# merge\u001b[0m\u001b[0;34m\u001b[0m\u001b[0;34m\u001b[0m\u001b[0;34m\u001b[0m\u001b[0m\n",
      "\u001b[0;32m<ipython-input-113-e600c66bf629>\u001b[0m in \u001b[0;36minsertMergeSort\u001b[0;34m(arr, S)\u001b[0m\n\u001b[1;32m      8\u001b[0m         \u001b[0mleft\u001b[0m \u001b[0;34m=\u001b[0m \u001b[0marr\u001b[0m\u001b[0;34m[\u001b[0m\u001b[0;34m:\u001b[0m\u001b[0mmid\u001b[0m\u001b[0;34m]\u001b[0m\u001b[0;34m\u001b[0m\u001b[0;34m\u001b[0m\u001b[0m\n\u001b[1;32m      9\u001b[0m         \u001b[0mright\u001b[0m \u001b[0;34m=\u001b[0m \u001b[0marr\u001b[0m\u001b[0;34m[\u001b[0m\u001b[0mmid\u001b[0m\u001b[0;34m:\u001b[0m\u001b[0;34m]\u001b[0m\u001b[0;34m\u001b[0m\u001b[0;34m\u001b[0m\u001b[0m\n\u001b[0;32m---> 10\u001b[0;31m         \u001b[0mkeyComp\u001b[0m \u001b[0;34m+=\u001b[0m \u001b[0minsertMergeSort\u001b[0m\u001b[0;34m(\u001b[0m\u001b[0mleft\u001b[0m\u001b[0;34m,\u001b[0m \u001b[0mS\u001b[0m\u001b[0;34m)\u001b[0m\u001b[0;34m\u001b[0m\u001b[0;34m\u001b[0m\u001b[0m\n\u001b[0m\u001b[1;32m     11\u001b[0m         \u001b[0mkeyComp\u001b[0m \u001b[0;34m+=\u001b[0m \u001b[0minsertMergeSort\u001b[0m\u001b[0;34m(\u001b[0m\u001b[0mright\u001b[0m\u001b[0;34m,\u001b[0m \u001b[0mS\u001b[0m\u001b[0;34m)\u001b[0m\u001b[0;34m\u001b[0m\u001b[0;34m\u001b[0m\u001b[0m\n\u001b[1;32m     12\u001b[0m \u001b[0;34m\u001b[0m\u001b[0m\n",
      "\u001b[0;32m<ipython-input-113-e600c66bf629>\u001b[0m in \u001b[0;36minsertMergeSort\u001b[0;34m(arr, S)\u001b[0m\n\u001b[1;32m      8\u001b[0m         \u001b[0mleft\u001b[0m \u001b[0;34m=\u001b[0m \u001b[0marr\u001b[0m\u001b[0;34m[\u001b[0m\u001b[0;34m:\u001b[0m\u001b[0mmid\u001b[0m\u001b[0;34m]\u001b[0m\u001b[0;34m\u001b[0m\u001b[0;34m\u001b[0m\u001b[0m\n\u001b[1;32m      9\u001b[0m         \u001b[0mright\u001b[0m \u001b[0;34m=\u001b[0m \u001b[0marr\u001b[0m\u001b[0;34m[\u001b[0m\u001b[0mmid\u001b[0m\u001b[0;34m:\u001b[0m\u001b[0;34m]\u001b[0m\u001b[0;34m\u001b[0m\u001b[0;34m\u001b[0m\u001b[0m\n\u001b[0;32m---> 10\u001b[0;31m         \u001b[0mkeyComp\u001b[0m \u001b[0;34m+=\u001b[0m \u001b[0minsertMergeSort\u001b[0m\u001b[0;34m(\u001b[0m\u001b[0mleft\u001b[0m\u001b[0;34m,\u001b[0m \u001b[0mS\u001b[0m\u001b[0;34m)\u001b[0m\u001b[0;34m\u001b[0m\u001b[0;34m\u001b[0m\u001b[0m\n\u001b[0m\u001b[1;32m     11\u001b[0m         \u001b[0mkeyComp\u001b[0m \u001b[0;34m+=\u001b[0m \u001b[0minsertMergeSort\u001b[0m\u001b[0;34m(\u001b[0m\u001b[0mright\u001b[0m\u001b[0;34m,\u001b[0m \u001b[0mS\u001b[0m\u001b[0;34m)\u001b[0m\u001b[0;34m\u001b[0m\u001b[0;34m\u001b[0m\u001b[0m\n\u001b[1;32m     12\u001b[0m \u001b[0;34m\u001b[0m\u001b[0m\n",
      "\u001b[0;32m<ipython-input-113-e600c66bf629>\u001b[0m in \u001b[0;36minsertMergeSort\u001b[0;34m(arr, S)\u001b[0m\n\u001b[1;32m      8\u001b[0m         \u001b[0mleft\u001b[0m \u001b[0;34m=\u001b[0m \u001b[0marr\u001b[0m\u001b[0;34m[\u001b[0m\u001b[0;34m:\u001b[0m\u001b[0mmid\u001b[0m\u001b[0;34m]\u001b[0m\u001b[0;34m\u001b[0m\u001b[0;34m\u001b[0m\u001b[0m\n\u001b[1;32m      9\u001b[0m         \u001b[0mright\u001b[0m \u001b[0;34m=\u001b[0m \u001b[0marr\u001b[0m\u001b[0;34m[\u001b[0m\u001b[0mmid\u001b[0m\u001b[0;34m:\u001b[0m\u001b[0;34m]\u001b[0m\u001b[0;34m\u001b[0m\u001b[0;34m\u001b[0m\u001b[0m\n\u001b[0;32m---> 10\u001b[0;31m         \u001b[0mkeyComp\u001b[0m \u001b[0;34m+=\u001b[0m \u001b[0minsertMergeSort\u001b[0m\u001b[0;34m(\u001b[0m\u001b[0mleft\u001b[0m\u001b[0;34m,\u001b[0m \u001b[0mS\u001b[0m\u001b[0;34m)\u001b[0m\u001b[0;34m\u001b[0m\u001b[0;34m\u001b[0m\u001b[0m\n\u001b[0m\u001b[1;32m     11\u001b[0m         \u001b[0mkeyComp\u001b[0m \u001b[0;34m+=\u001b[0m \u001b[0minsertMergeSort\u001b[0m\u001b[0;34m(\u001b[0m\u001b[0mright\u001b[0m\u001b[0;34m,\u001b[0m \u001b[0mS\u001b[0m\u001b[0;34m)\u001b[0m\u001b[0;34m\u001b[0m\u001b[0;34m\u001b[0m\u001b[0m\n\u001b[1;32m     12\u001b[0m \u001b[0;34m\u001b[0m\u001b[0m\n",
      "\u001b[0;32m<ipython-input-113-e600c66bf629>\u001b[0m in \u001b[0;36minsertMergeSort\u001b[0;34m(arr, S)\u001b[0m\n\u001b[1;32m      9\u001b[0m         \u001b[0mright\u001b[0m \u001b[0;34m=\u001b[0m \u001b[0marr\u001b[0m\u001b[0;34m[\u001b[0m\u001b[0mmid\u001b[0m\u001b[0;34m:\u001b[0m\u001b[0;34m]\u001b[0m\u001b[0;34m\u001b[0m\u001b[0;34m\u001b[0m\u001b[0m\n\u001b[1;32m     10\u001b[0m         \u001b[0mkeyComp\u001b[0m \u001b[0;34m+=\u001b[0m \u001b[0minsertMergeSort\u001b[0m\u001b[0;34m(\u001b[0m\u001b[0mleft\u001b[0m\u001b[0;34m,\u001b[0m \u001b[0mS\u001b[0m\u001b[0;34m)\u001b[0m\u001b[0;34m\u001b[0m\u001b[0;34m\u001b[0m\u001b[0m\n\u001b[0;32m---> 11\u001b[0;31m         \u001b[0mkeyComp\u001b[0m \u001b[0;34m+=\u001b[0m \u001b[0minsertMergeSort\u001b[0m\u001b[0;34m(\u001b[0m\u001b[0mright\u001b[0m\u001b[0;34m,\u001b[0m \u001b[0mS\u001b[0m\u001b[0;34m)\u001b[0m\u001b[0;34m\u001b[0m\u001b[0;34m\u001b[0m\u001b[0m\n\u001b[0m\u001b[1;32m     12\u001b[0m \u001b[0;34m\u001b[0m\u001b[0m\n\u001b[1;32m     13\u001b[0m         \u001b[0;31m# merge\u001b[0m\u001b[0;34m\u001b[0m\u001b[0;34m\u001b[0m\u001b[0;34m\u001b[0m\u001b[0m\n",
      "\u001b[0;32m<ipython-input-113-e600c66bf629>\u001b[0m in \u001b[0;36minsertMergeSort\u001b[0;34m(arr, S)\u001b[0m\n\u001b[1;32m      9\u001b[0m         \u001b[0mright\u001b[0m \u001b[0;34m=\u001b[0m \u001b[0marr\u001b[0m\u001b[0;34m[\u001b[0m\u001b[0mmid\u001b[0m\u001b[0;34m:\u001b[0m\u001b[0;34m]\u001b[0m\u001b[0;34m\u001b[0m\u001b[0;34m\u001b[0m\u001b[0m\n\u001b[1;32m     10\u001b[0m         \u001b[0mkeyComp\u001b[0m \u001b[0;34m+=\u001b[0m \u001b[0minsertMergeSort\u001b[0m\u001b[0;34m(\u001b[0m\u001b[0mleft\u001b[0m\u001b[0;34m,\u001b[0m \u001b[0mS\u001b[0m\u001b[0;34m)\u001b[0m\u001b[0;34m\u001b[0m\u001b[0;34m\u001b[0m\u001b[0m\n\u001b[0;32m---> 11\u001b[0;31m         \u001b[0mkeyComp\u001b[0m \u001b[0;34m+=\u001b[0m \u001b[0minsertMergeSort\u001b[0m\u001b[0;34m(\u001b[0m\u001b[0mright\u001b[0m\u001b[0;34m,\u001b[0m \u001b[0mS\u001b[0m\u001b[0;34m)\u001b[0m\u001b[0;34m\u001b[0m\u001b[0;34m\u001b[0m\u001b[0m\n\u001b[0m\u001b[1;32m     12\u001b[0m \u001b[0;34m\u001b[0m\u001b[0m\n\u001b[1;32m     13\u001b[0m         \u001b[0;31m# merge\u001b[0m\u001b[0;34m\u001b[0m\u001b[0;34m\u001b[0m\u001b[0;34m\u001b[0m\u001b[0m\n",
      "\u001b[0;32m<ipython-input-113-e600c66bf629>\u001b[0m in \u001b[0;36minsertMergeSort\u001b[0;34m(arr, S)\u001b[0m\n\u001b[1;32m      8\u001b[0m         \u001b[0mleft\u001b[0m \u001b[0;34m=\u001b[0m \u001b[0marr\u001b[0m\u001b[0;34m[\u001b[0m\u001b[0;34m:\u001b[0m\u001b[0mmid\u001b[0m\u001b[0;34m]\u001b[0m\u001b[0;34m\u001b[0m\u001b[0;34m\u001b[0m\u001b[0m\n\u001b[1;32m      9\u001b[0m         \u001b[0mright\u001b[0m \u001b[0;34m=\u001b[0m \u001b[0marr\u001b[0m\u001b[0;34m[\u001b[0m\u001b[0mmid\u001b[0m\u001b[0;34m:\u001b[0m\u001b[0;34m]\u001b[0m\u001b[0;34m\u001b[0m\u001b[0;34m\u001b[0m\u001b[0m\n\u001b[0;32m---> 10\u001b[0;31m         \u001b[0mkeyComp\u001b[0m \u001b[0;34m+=\u001b[0m \u001b[0minsertMergeSort\u001b[0m\u001b[0;34m(\u001b[0m\u001b[0mleft\u001b[0m\u001b[0;34m,\u001b[0m \u001b[0mS\u001b[0m\u001b[0;34m)\u001b[0m\u001b[0;34m\u001b[0m\u001b[0;34m\u001b[0m\u001b[0m\n\u001b[0m\u001b[1;32m     11\u001b[0m         \u001b[0mkeyComp\u001b[0m \u001b[0;34m+=\u001b[0m \u001b[0minsertMergeSort\u001b[0m\u001b[0;34m(\u001b[0m\u001b[0mright\u001b[0m\u001b[0;34m,\u001b[0m \u001b[0mS\u001b[0m\u001b[0;34m)\u001b[0m\u001b[0;34m\u001b[0m\u001b[0;34m\u001b[0m\u001b[0m\n\u001b[1;32m     12\u001b[0m \u001b[0;34m\u001b[0m\u001b[0m\n",
      "\u001b[0;32m<ipython-input-113-e600c66bf629>\u001b[0m in \u001b[0;36minsertMergeSort\u001b[0;34m(arr, S)\u001b[0m\n\u001b[1;32m     31\u001b[0m                 \u001b[0marr\u001b[0m\u001b[0;34m[\u001b[0m\u001b[0mindex\u001b[0m\u001b[0;34m]\u001b[0m \u001b[0;34m=\u001b[0m \u001b[0mright\u001b[0m\u001b[0;34m[\u001b[0m\u001b[0mb\u001b[0m\u001b[0;34m]\u001b[0m\u001b[0;34m\u001b[0m\u001b[0;34m\u001b[0m\u001b[0m\n\u001b[1;32m     32\u001b[0m                 \u001b[0mb\u001b[0m \u001b[0;34m+=\u001b[0m \u001b[0;36m1\u001b[0m\u001b[0;34m\u001b[0m\u001b[0;34m\u001b[0m\u001b[0m\n\u001b[0;32m---> 33\u001b[0;31m             \u001b[0mindex\u001b[0m \u001b[0;34m+=\u001b[0m \u001b[0;36m1\u001b[0m\u001b[0;34m\u001b[0m\u001b[0;34m\u001b[0m\u001b[0m\n\u001b[0m\u001b[1;32m     34\u001b[0m \u001b[0;34m\u001b[0m\u001b[0m\n\u001b[1;32m     35\u001b[0m         \u001b[0;31m# Check for remaining elements\u001b[0m\u001b[0;34m\u001b[0m\u001b[0;34m\u001b[0m\u001b[0;34m\u001b[0m\u001b[0m\n",
      "\u001b[0;31mKeyboardInterrupt\u001b[0m: "
     ]
    }
   ],
   "source": [
    "S = 4\n",
    "df = pd.DataFrame(columns = ['sizeArr', 'keyCompArr']) # Create empty dataframe\n",
    "\n",
    "for i in range(3,8,1):\n",
    "    for j in range(1, 10, 1):\n",
    "        arr = inputGen(j * pow(10,i), pow(10,7))\n",
    "        keyComp = insertMergeSort(arr, S)\n",
    "    \n",
    "        df = df.append({'sizeArr' : j * pow(10,i), 'keyCompArr' : keyComp}, \n",
    "                ignore_index = True) # Append row\n",
    "df"
   ]
  },
  {
   "cell_type": "code",
   "execution_count": null,
   "metadata": {},
   "outputs": [],
   "source": [
    "plotGraphFromDF(\n",
    "    pd.DataFrame(\n",
    "        {\n",
    "            'Size of Array'          : df['sizeArr'],\n",
    "            'No. of Key Comparisons' : df['keyCompArr']\n",
    "        }\n",
    "    )\n",
    ")"
   ]
  },
  {
   "cell_type": "markdown",
   "metadata": {},
   "source": [
    "### ii. With the input size n fixed, plot the number of key comparisons over different values of S. Compare your empirical results with your theoretical analysis of the time complexity\n",
    "\n",
    "Let n = 10,000 for the sake of this comparison\n",
    "Since S supposed to be a small integer, test S = 1 to S = 20."
   ]
  },
  {
   "cell_type": "code",
   "execution_count": null,
   "metadata": {},
   "outputs": [],
   "source": [
    "df2 = pd.DataFrame(columns = ['S', 'keyCompArr']) # Create empty dataframe\n",
    "arr2 = inputGen(pow(10,4), pow(10,4)) # Test on the same array\n",
    "    \n",
    "for i in range(1,11,1):\n",
    "    tempArr = arr2.copy()\n",
    "    keyComp = insertMergeSort(tempArr, pow(2,i))\n",
    "    df2 = df2.append({'S' : pow(2,i), 'keyCompArr' : keyComp}, \n",
    "                ignore_index = True) # Append row\n",
    "    \n",
    "df2"
   ]
  },
  {
   "cell_type": "code",
   "execution_count": null,
   "metadata": {},
   "outputs": [],
   "source": [
    "plotGraphFromDF(\n",
    "    pd.DataFrame(\n",
    "        {\n",
    "            'S'                      : df2['S'],\n",
    "            'No. of Key Comparisons' : df2['keyCompArr']\n",
    "        }\n",
    "    )\n",
    ")"
   ]
  },
  {
   "cell_type": "markdown",
   "metadata": {},
   "source": [
    "### iii. Using different sizes of input datasets, study how to determine an optimal value of S for the best performance of this hybrid algorithm"
   ]
  },
  {
   "cell_type": "code",
   "execution_count": null,
   "metadata": {},
   "outputs": [],
   "source": []
  },
  {
   "cell_type": "markdown",
   "metadata": {},
   "source": [
    "### Time Complexity for insertMergeSort (S=4)\n",
    "\n",
    "#### INSERTIONSORT PART\n",
    "- The ith iteration may have 1,2...i key comparisons, each with 1/i chance. \n",
    "- Average number of comparisons in the ith iteration: \n",
    "\n",
    "1⠀⠀⠀i⠀⠀⠀⠀⠀⠀⠀⠀⠀1\n",
    "\n",
    "–⠀⠀⠀∑⠀⠀j⠀⠀⠀=⠀⠀–⠀(1+2+...+i)\n",
    "\n",
    "i⠀⠀⠀j=1⠀⠀⠀⠀⠀⠀⠀⠀i\n",
    "\n",
    "- Hence, total complexity:\n",
    "\n",
    "S-1⠀⠀⠀1⠀⠀⠀i⠀⠀⠀⠀⠀⠀⠀⠀⠀\n",
    "\n",
    "⠀∑ ⠀(⠀–⠀⠀⠀∑⠀⠀j⠀⠀)⠀⠀⠀\n",
    "\n",
    "i=1⠀⠀⠀i⠀⠀⠀j=1⠀⠀⠀⠀⠀\n",
    "\n",
    "------\n",
    "\n",
    "S-1⠀⠀⠀1⠀⠀⠀i (i+1)⠀⠀⠀⠀⠀⠀⠀\n",
    "\n",
    "⠀∑ ⠀(⠀–⠀⠀––––––    )⠀⠀⠀\n",
    "\n",
    "i=1⠀⠀⠀i⠀⠀⠀⠀2⠀⠀⠀⠀⠀\n",
    "\n",
    "------\n",
    "\n",
    "S-1⠀⠀⠀1⠀⠀⠀⠀⠀⠀⠀⠀⠀\n",
    "\n",
    "⠀∑ ⠀(⠀–⠀⠀(i+1)   )⠀⠀⠀\n",
    "\n",
    "i=1⠀⠀⠀2⠀⠀⠀⠀⠀⠀⠀⠀⠀\n",
    "\n",
    "------\n",
    "\n",
    "= 1/2 (2+S)(S-1)/2\n",
    "\n",
    "= (S+2)(S-1)/4\n",
    "\n",
    "Since S is fixed, total time complexity = O(1)\n",
    "\n",
    "-----\n",
    "\n",
    "#### MERGESORT PART\n",
    "##### Merge function:\n",
    "- Best case, e.g. when list is already sorted allowing first sublist to traverse till end, is Θ(n/2)\n",
    "- Worst case, e.g. when list is sorted the wrong way, is Θ(n-1)\n",
    "\n",
    "##### Main function in worst case:\n",
    "\n",
    "W(n)\n",
    "\n",
    "= W(n/2) + W(n/2) + (n-1)\n",
    "    \n",
    "= 2W(n/2) + (n-1)\n",
    "    \n",
    "= 2<sup>2</sup>W(n/2<sup>2</sup>) + (n-1) + 2(n/2-1)\n",
    "    \n",
    "= 2<sup>3</sup>W(n/2<sup>3</sup>) + (n-1) + 2(n/2-1) + 2<sup>2</sup>(n/2<sup>2</sup>-1)\n",
    "    \n",
    "= ....\n",
    "\n",
    "= 2<sup>k</sup>W(n/2<sup>k</sup>) + (n-1) + 2(n/2-1) + 2<sup>2</sup>(n/2<sup>2</sup>-1) + ... + 2<sup>k</sup>(n/2<sup>k</sup>-1)\n",
    "\n",
    "For S=4, terminating condition is when 2<sup>k</sup> = n/4, hence n = 2<sup>k+2</sup> and log<sub>2</sub>n = k+2\n",
    "\n",
    "= nW(4)/4 + (n-1) + 2(n/2-1) + 2<sup>2</sup>(n/2<sup>2</sup>-1) + ... + (n-2<sup>k</sup>)\n",
    "\n",
    "= nW(4)/4 + (n-1) + (n-2) + (n-2<sup>2</sup>) ... + (n-2<sup>k</sup>)\n",
    "\n",
    "= nW(4)/4 + (n-2<sup>0</sup>) + (n-2<sup>1</sup>) + (n-2<sup>2</sup>) ... + (n-2<sup>k</sup>)\n",
    "\n",
    "= nW(4)/4 + (k+1)(n) - (2<sup>0</sup>+2<sup>1</sup>+2<sup>2</sup>...+2<sup>k</sup>)\n",
    "\n",
    "= nW(4)/4 + (k+1)(n) - (1(2<sup>k+1</sup>-1)/(2-1))\n",
    "\n",
    "= nW(4)/4 + (k+1)(n) - (2<sup>k+1</sup>-1)\n",
    "\n",
    "= nW(4)/4 + (k+1)(n) - (n/2-1)\n",
    "\n",
    "= nW(4)/4 + (log<sub>2</sub>n-1)(n) - (n/2-1)\n",
    "\n",
    "= O(n) + O(nlgn) - O(n) = O(nlgn)"
   ]
  },
  {
   "cell_type": "markdown",
   "metadata": {},
   "source": [
    "### d) Compare with original Mergesort: Implement the original version of Mergesort (as learnt in lecture). Compare its performance against the above hybrid algorithm in terms of the number of key comparisons and CPU times on the dataset with 10 million integers. You can use the optimal value of S obtained in (c) for this task"
   ]
  },
  {
   "cell_type": "code",
   "execution_count": null,
   "metadata": {},
   "outputs": [],
   "source": [
    "#################### MERGESORT ####################\n",
    "#### input: array, threshold integer | output: key comparisons\n",
    "def mergeSort(arr, S):\n",
    "    keyComp = 0\n",
    "    if len(arr) > 1:\n",
    "        mid = len(arr) // 2  # floor division\n",
    "\n",
    "        left = arr[:mid]\n",
    "        right = arr[mid:]\n",
    "        keyComp += insertMergeSort(left, S)\n",
    "        keyComp += insertMergeSort(right, S)\n",
    "\n",
    "        # merge\n",
    "        # index to keep track of arr\n",
    "        index = a = b = 0\n",
    "\n",
    "        while a < len(left) and b < len(right):\n",
    "            keyComp += 1\n",
    "            if left[a] < right[b]:\n",
    "                arr[index] = left[a]  # write into arr (sorted array)\n",
    "                a += 1\n",
    "                # \"remove\" the element from left sublist\n",
    "            elif left[a] > right[b]:\n",
    "                arr[index] = right[b]  # write into arr (sorted array)\n",
    "                b += 1\n",
    "                # \"remove\" the element from right sublist\n",
    "            else:\n",
    "                arr[index] = left[a]\n",
    "                a += 1\n",
    "                index += 1\n",
    "                arr[index] = right[b]\n",
    "                b += 1\n",
    "            index += 1\n",
    "\n",
    "        # Check for remaining elements\n",
    "        # Only one of these loops will run\n",
    "        while a < len(left):\n",
    "            arr[index] = left[a]\n",
    "            a += 1\n",
    "            index += 1\n",
    "        while b < len(right):\n",
    "            arr[index] = right[b]\n",
    "            b += 1\n",
    "            index += 1\n",
    "\n",
    "    return keyComp  # report key comparisons\n",
    "####################################################################"
   ]
  },
  {
   "cell_type": "code",
   "execution_count": null,
   "metadata": {},
   "outputs": [],
   "source": [
    "S = 4 # input optimal S here\n",
    "arr3 = inputGen(pow(10,7), pow(10,7)) # array of 10 million integers\n",
    "arr4 = arr3.copy()\n",
    "\n",
    "t1_start = process_time()  # For insertMergeSort\n",
    "kc1 = insertMergeSort(arr3, S)\n",
    "t1_stop = process_time()  \n",
    "\n",
    "t2_start = process_time()  # For insertMergeSort\n",
    "kc2 = mergeSort(arr4, S)\n",
    "t2_stop = process_time()  \n",
    "\n",
    "\n",
    "print(\"Done\")"
   ]
  },
  {
   "cell_type": "markdown",
   "metadata": {},
   "source": [
    "**Hybrid Insertion-Mergesort:**"
   ]
  },
  {
   "cell_type": "code",
   "execution_count": null,
   "metadata": {},
   "outputs": [],
   "source": [
    "print(\"No. of key comparisons: \", kc1, end=\"\\n\")\n",
    "print(\"Elapsed time during the whole program in seconds:\",t1_stop - t1_start)  "
   ]
  },
  {
   "cell_type": "markdown",
   "metadata": {},
   "source": [
    "**Classic Mergesort:**"
   ]
  },
  {
   "cell_type": "code",
   "execution_count": null,
   "metadata": {},
   "outputs": [],
   "source": [
    "print(\"No. of key comparisons: \", kc2, end=\"\\n\")\n",
    "print(\"Elapsed time during the whole program in seconds:\",t2_stop - t2_start) "
   ]
  }
 ],
 "metadata": {
  "kernelspec": {
   "display_name": "Python 3",
   "language": "python",
   "name": "python3"
  },
  "language_info": {
   "codemirror_mode": {
    "name": "ipython",
    "version": 3
   },
   "file_extension": ".py",
   "mimetype": "text/x-python",
   "name": "python",
   "nbconvert_exporter": "python",
   "pygments_lexer": "ipython3",
   "version": "3.8.3"
  }
 },
 "nbformat": 4,
 "nbformat_minor": 5
}
