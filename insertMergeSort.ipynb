{
 "cells": [
  {
   "cell_type": "code",
   "execution_count": 18,
   "metadata": {},
   "outputs": [],
   "source": [
    "from time import process_time\n",
    "import random"
   ]
  },
  {
   "cell_type": "code",
   "execution_count": 19,
   "metadata": {},
   "outputs": [],
   "source": [
    "def insertMergeSort(arr, S):\n",
    "    keyComp = 0\n",
    "    if len(arr) > S:\n",
    "        mid = len(arr) // 2  # floor division\n",
    "\n",
    "        left = arr[:mid]\n",
    "        right = arr[mid:]\n",
    "        keyComp += insertMergeSort(left, S)\n",
    "        keyComp += insertMergeSort(right, S)\n",
    "\n",
    "        # merge\n",
    "        # index to keep track of arr\n",
    "        index = a = b = 0\n",
    "\n",
    "        while a < len(left) and b < len(right):\n",
    "            keyComp += 1\n",
    "            if left[a] < right[b]:\n",
    "                arr[index] = left[a]  # write into arr (sorted array)\n",
    "                a += 1\n",
    "                # \"remove\" the element from left sublist\n",
    "            else:\n",
    "                arr[index] = right[b]  # write into arr (sorted array)\n",
    "                b += 1\n",
    "                # \"remove\" the element from right sublist\n",
    "            index += 1\n",
    "\n",
    "        # Check for remaining elements\n",
    "        # Only one of these loops will run\n",
    "        while a < len(left):\n",
    "            arr[index] = left[a]\n",
    "            a += 1\n",
    "            index += 1\n",
    "        while b < len(right):\n",
    "            arr[index] = right[b]\n",
    "            b += 1\n",
    "            index += 1\n",
    "    else:\n",
    "        # Insertion Sort\n",
    "        for i in range(1, len(arr)):\n",
    "            for j in range(i, 0, -1):\n",
    "                keyComp += 1\n",
    "                if arr[j] < arr[j - 1]:\n",
    "                    arr[j], arr[j - 1] = arr[j - 1], arr[j]\n",
    "                else:\n",
    "                    break\n",
    "\n",
    "    return keyComp  # report key comparisons\n",
    "\n",
    "\n",
    "def printList(arr):\n",
    "    for i in range(len(arr)):\n",
    "        print(arr[i], end=\" \")\n",
    "    print()\n",
    "\n",
    "\n",
    "def generateData(size):\n",
    "    return [random.randrange(1, size, 1) for i in range(size)]"
   ]
  },
  {
   "cell_type": "markdown",
   "metadata": {},
   "source": [
    "## 100k elements"
   ]
  },
  {
   "cell_type": "code",
   "execution_count": 20,
   "metadata": {},
   "outputs": [
    {
     "name": "stdout",
     "output_type": "stream",
     "text": [
      "No. of key comparisons:  1536418\n",
      "Elapsed time during the whole program in seconds: 0.7018740000000001\n"
     ]
    }
   ],
   "source": [
    "t1_start = process_time()  #Get start time\n",
    "\n",
    "bigArr1 = generateData(100000) \n",
    "kc1 = mergeSort(bigArr1)\n",
    "t1_stop = process_time()  #Get end time\n",
    "\n",
    "print(\"No. of key comparisons: \", kc1, end=\"\\n\")\n",
    "print(\"Elapsed time during the whole program in seconds:\",t1_stop - t1_start)  #Elapsed Time"
   ]
  },
  {
   "cell_type": "markdown",
   "metadata": {},
   "source": [
    "## 1 million elements"
   ]
  },
  {
   "cell_type": "code",
   "execution_count": 22,
   "metadata": {},
   "outputs": [
    {
     "name": "stdout",
     "output_type": "stream",
     "text": [
      "No. of key comparisons:  18727451\n",
      "Elapsed time during the whole program in seconds: 8.267081999999998\n"
     ]
    }
   ],
   "source": [
    "t2_start = process_time()  #Get start time\n",
    "\n",
    "bigArr2 = generateData(1000000) # Make large array with random elements\n",
    "kc2 = insertMergeSort(bigArr2, 4)\n",
    "t2_stop = process_time()  #Get end time\n",
    "\n",
    "print(\"No. of key comparisons: \", kc2, end=\"\\n\")\n",
    "print(\"Elapsed time during the whole program in seconds:\",t2_stop - t2_start)  #Elapsed Time"
   ]
  },
  {
   "cell_type": "markdown",
   "metadata": {},
   "source": [
    "## 10 million elements"
   ]
  },
  {
   "cell_type": "code",
   "execution_count": 23,
   "metadata": {},
   "outputs": [
    {
     "name": "stdout",
     "output_type": "stream",
     "text": [
      "No. of key comparisons:  220223795\n",
      "Elapsed time during the whole program in seconds: 105.07588200000001\n"
     ]
    }
   ],
   "source": [
    "t3_start = process_time()  #Get start time\n",
    "\n",
    "bigArr3 = generateData(10000000) # Make large array with random elements\n",
    "kc3 = insertMergeSort(bigArr3, 4)\n",
    "t3_stop = process_time()  #Get end time\n",
    "\n",
    "print(\"No. of key comparisons: \", kc3, end=\"\\n\")\n",
    "print(\"Elapsed time during the whole program in seconds:\",t3_stop - t3_start)  #Elapsed Time"
   ]
  }
 ],
 "metadata": {
  "kernelspec": {
   "display_name": "Python 3",
   "language": "python",
   "name": "python3"
  },
  "language_info": {
   "codemirror_mode": {
    "name": "ipython",
    "version": 3
   },
   "file_extension": ".py",
   "mimetype": "text/x-python",
   "name": "python",
   "nbconvert_exporter": "python",
   "pygments_lexer": "ipython3",
   "version": "3.8.3"
  }
 },
 "nbformat": 4,
 "nbformat_minor": 4
}
