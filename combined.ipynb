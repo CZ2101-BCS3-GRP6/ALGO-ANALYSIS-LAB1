{
 "cells": [
  {
   "cell_type": "markdown",
   "id": "bf5bec03",
   "metadata": {},
   "source": [
    "# CE2101/CZ2101 ALGORITHM DESIGN AND ANALYSIS\n",
    "# Project 1: Integration of Mergesort & Insertion Sort"
   ]
  },
  {
   "cell_type": "code",
   "execution_count": 1,
   "id": "5a2b45e5",
   "metadata": {},
   "outputs": [],
   "source": [
    "import random\n",
    "from time import process_time\n",
    "import matplotlib.pyplot as plt\n",
    "import pandas as pd\n",
    "\n",
    "pd.set_option('display.max_rows', None)"
   ]
  },
  {
   "cell_type": "markdown",
   "id": "3bf91715",
   "metadata": {},
   "source": [
    "### (a) Algorithm implementation: Implement the above hybrid algorithm."
   ]
  },
  {
   "cell_type": "code",
   "execution_count": 2,
   "id": "59b312c3",
   "metadata": {},
   "outputs": [],
   "source": [
    "#################### MERGESORT & INSERTION SORT ####################\n",
    "#### input: array, threshold integer | output: key comparisons\n",
    "returnArr = []\n",
    "def insertMergeSort(arr, S):\n",
    "    keyComp = 0\n",
    "    if len(arr) > S:\n",
    "        mid = len(arr) // 2  # floor division\n",
    "\n",
    "        left = arr[:mid]\n",
    "        right = arr[mid:]\n",
    "        keyComp += insertMergeSort(left, S)\n",
    "        keyComp += insertMergeSort(right, S)\n",
    "\n",
    "        # merge\n",
    "        # index to keep track of arr\n",
    "        index = 0\n",
    "        leftIndex = 0\n",
    "        rightIndex = 0\n",
    "\n",
    "        while leftIndex < len(left) and rightIndex < len(right):\n",
    "            keyComp += 1\n",
    "            if left[leftIndex] < right[rightIndex]:\n",
    "                arr[index] = left[leftIndex]  # write into arr (sorted array)\n",
    "                leftIndex += 1\n",
    "                # remove the element from left sublist\n",
    "            else:\n",
    "                arr[index] = right[rightIndex]  # write into arr (sorted array)\n",
    "                rightIndex += 1\n",
    "                # remove the element from right sublist\n",
    "            index += 1\n",
    "\n",
    "        # Check for remaining elements\n",
    "        # Only one of these loops will run\n",
    "        while leftIndex < len(left):\n",
    "            arr[index] = left[leftIndex]\n",
    "            leftIndex += 1\n",
    "            index += 1\n",
    "        while rightIndex < len(right):\n",
    "            arr[index] = right[rightIndex]\n",
    "            rightIndex += 1\n",
    "            index += 1\n",
    "    else:\n",
    "        # Insertion Sort\n",
    "        for i in range(1, len(arr)):\n",
    "            for j in range(i, 0, -1):\n",
    "                keyComp += 1\n",
    "                if arr[j] < arr[j - 1]:\n",
    "                    arr[j], arr[j - 1] = arr[j - 1], arr[j]\n",
    "                else:\n",
    "                    break\n",
    "                    \n",
    "    arr = returnArr\n",
    "    return keyComp  # report key comparisons\n",
    "####################################################################"
   ]
  },
  {
   "cell_type": "markdown",
   "id": "dcd5b14c",
   "metadata": {},
   "source": [
    "### (b) Generate input data: Generate arrays of increasing sizes, in a range from 1,000 to 10 million."
   ]
  },
  {
   "cell_type": "code",
   "execution_count": 3,
   "id": "bf610cc7",
   "metadata": {},
   "outputs": [],
   "source": [
    "######################## INPUT GENERATOR ########################\n",
    "### input: array size, largest integer allowed | output: array\n",
    "def inputGen(sizeArr, x):\n",
    "    returnList = []\n",
    "    for i in range(0, sizeArr):\n",
    "        n = random.randint(1, x)\n",
    "        returnList.append(n)\n",
    "    return returnList\n",
    "################################################################"
   ]
  },
  {
   "cell_type": "markdown",
   "id": "2df68ffb",
   "metadata": {},
   "source": [
    "### Helper Functions"
   ]
  },
  {
   "cell_type": "code",
   "execution_count": 4,
   "id": "b9e94552",
   "metadata": {},
   "outputs": [],
   "source": [
    "##################### printList #####################\n",
    "### input: array | output: N/A (print to console)\n",
    "def printList(arr):\n",
    "    for i in range(len(arr)):\n",
    "        print(arr[i], end=\" \")\n",
    "    print()\n",
    "####################################################"
   ]
  },
  {
   "cell_type": "code",
   "execution_count": 5,
   "id": "aceb0ae2",
   "metadata": {},
   "outputs": [],
   "source": [
    "##################### plotGraphFromDF #####################\n",
    "### input: dataframe with two columns, X and Y | output: N/A (pop-up window with plot)\n",
    "def plotGraphFromDF(df):\n",
    "    plt.plot(df[df.columns[0]], df[df.columns[1]])\n",
    "    plt.title(df.columns[1] + ' against ' + df.columns[0])\n",
    "    plt.ylabel(df.columns[1])\n",
    "    plt.xlabel(df.columns[0])\n",
    "\n",
    "plt.show()\n",
    "####################################################"
   ]
  },
  {
   "cell_type": "markdown",
   "id": "46c6213a",
   "metadata": {},
   "source": [
    "## (c) Analyze time complexity"
   ]
  },
  {
   "cell_type": "markdown",
   "id": "92b48606",
   "metadata": {},
   "source": [
    "#### Cursory note 1: why we need to use number of key comparisons instead of time taken"
   ]
  },
  {
   "cell_type": "code",
   "execution_count": 6,
   "id": "8c10883f",
   "metadata": {},
   "outputs": [
    {
     "data": {
      "image/png": "[encoded data removed]",
      "text/plain": [
       "<Figure size 432x288 with 1 Axes>"
      ]
     },
     "metadata": {
      "needs_background": "light"
     },
     "output_type": "display_data"
    }
   ],
   "source": [
    "S = 4\n",
    "sizeArr = []\n",
    "keyCompArr = []\n",
    "timeArr = []\n",
    "for i in range(pow(10,3), pow(10,4), 100):\n",
    "    arr = inputGen(i, pow(10,4))\n",
    "    startTime = process_time()\n",
    "    keyComp = insertMergeSort(arr, S)\n",
    "    stopTime = process_time()\n",
    "    totalTime = stopTime - startTime\n",
    "\n",
    "    sizeArr.append(i)\n",
    "    keyCompArr.append(keyComp)\n",
    "    timeArr.append(totalTime)\n",
    "\n",
    "plotGraphFromDF(\n",
    "    pd.DataFrame(\n",
    "        {\n",
    "            'Size of Array'             : sizeArr,\n",
    "            'Total Time Taken'          : timeArr\n",
    "        }\n",
    "    )\n",
    ")"
   ]
  },
  {
   "cell_type": "markdown",
   "id": "1e32dde9",
   "metadata": {},
   "source": [
    "#### As seen from the graph, measuring time taken is not a reliable metric.\n",
    "\n",
    "##### This is because it is highly dependent on the availability of CPU resources / presence of other programs. \n",
    "\n",
    "#### Thus, we need to adopt a more theoretical framework by observing the number of key comparisons."
   ]
  },
  {
   "cell_type": "markdown",
   "id": "37464a06",
   "metadata": {},
   "source": [
    "#### Cursory note 2: why we need to fix x, the largest number we allow for our datasets"
   ]
  },
  {
   "cell_type": "code",
   "execution_count": 7,
   "id": "21de1956",
   "metadata": {},
   "outputs": [
    {
     "data": {
      "image/png": "[encoded data removed]",
      "text/plain": [
       "<Figure size 432x288 with 1 Axes>"
      ]
     },
     "metadata": {
      "needs_background": "light"
     },
     "output_type": "display_data"
    }
   ],
   "source": [
    "S = 4\n",
    "keyCompArr = []\n",
    "keyCompArrOfArr = []\n",
    "df = pd.DataFrame(size for size in range(2000,3000))\n",
    "df.columns = ['Size of Array']\n",
    "loops = 4\n",
    "\n",
    "x=5\n",
    "for loop in range(loops):\n",
    "    keyCompArr = []\n",
    "    for i in df['Size of Array']:\n",
    "        arr = inputGen(i, x)\n",
    "        keyCompArr.append(insertMergeSort(arr, S))\n",
    "    plt.plot(df['Size of Array'], keyCompArr, label = \"Run \" + str(loop))\n",
    "    \n",
    "plt.legend()\n",
    "plt.title(\"Number of Key Comparisons against Input Array Size when chosen x is small\")\n",
    "plt.ylabel(\"Number of Key Comparisons\")\n",
    "plt.xlabel(\"Input Array Size\")\n",
    "plt.show()"
   ]
  },
  {
   "cell_type": "code",
   "execution_count": 8,
   "id": "1df528bc",
   "metadata": {},
   "outputs": [
    {
     "data": {
      "image/png": "[encoded data removed]",
      "text/plain": [
       "<Figure size 432x288 with 1 Axes>"
      ]
     },
     "metadata": {
      "needs_background": "light"
     },
     "output_type": "display_data"
    }
   ],
   "source": [
    "S = 4\n",
    "keyCompArr = []\n",
    "keyCompArrOfArr = []\n",
    "df = pd.DataFrame(size for size in range(2000,3000))\n",
    "df.columns = ['Size of Array']\n",
    "loops = 4\n",
    "\n",
    "x=1000000\n",
    "for loop in range(loops):\n",
    "    keyCompArr = []\n",
    "    for i in df['Size of Array']:\n",
    "        arr = inputGen(i, x)\n",
    "        keyCompArr.append(insertMergeSort(arr, S))\n",
    "    plt.plot(df['Size of Array'], keyCompArr, label = \"Run \" + str(loop))\n",
    "    \n",
    "plt.legend()\n",
    "plt.title(\"Number of Key Comparisons against Input Array Size when chosen x is large (>input array size)\")\n",
    "plt.ylabel(\"Number of Key Comparisons\")\n",
    "plt.xlabel(\"Input Array Size\")\n",
    "plt.show()"
   ]
  },
  {
   "cell_type": "markdown",
   "id": "73785be7",
   "metadata": {},
   "source": [
    "#### As seen from comparing the two graphs, the variability of the number of key comparisons is greater when x is small.\n",
    "\n",
    "##### This is because, with small x, there is a higher probability of having duplicate keys in the array. This will result in less key comparisons when sorting.\n",
    "\n",
    "##### Formally, if x is less than the array size, there will definitely be duplicate keys (pigeonhole principle), although the inverse is not true (we can still have duplicate keys with high x by the nature of random number generator)\n",
    "\n",
    "#### Thus, we need to select a sufficiently high value of x."
   ]
  },
  {
   "cell_type": "markdown",
   "id": "626e2b39",
   "metadata": {},
   "source": [
    "## i. With the value of S fixed, plot the number of key comparisons over different sizes of the input list n."
   ]
  },
  {
   "cell_type": "code",
   "execution_count": null,
   "id": "10328f33",
   "metadata": {},
   "outputs": [],
   "source": [
    "S = 4\n",
    "sizeArr = []\n",
    "keyCompArr = []\n",
    "for i in range(pow(10,3), pow(10,7), 100):\n",
    "    arr = inputGen(i, pow(10,7))\n",
    "    keyComp = insertMergeSort(arr, S)\n",
    "\n",
    "    sizeArr.append(i)\n",
    "    keyCompArr.append(keyComp)\n",
    "\n",
    "plotGraphFromDF(\n",
    "    pd.DataFrame(\n",
    "        {\n",
    "            'Size of Array'             : sizeArr,\n",
    "            'Number of Key Comparisons' : keyCompArr\n",
    "        }\n",
    "    )\n",
    ")"
   ]
  },
  {
   "cell_type": "code",
   "execution_count": null,
   "id": "c3a1ea09",
   "metadata": {},
   "outputs": [],
   "source": [
    "print('lol')"
   ]
  },
  {
   "cell_type": "markdown",
   "id": "60e65e89",
   "metadata": {},
   "source": [
    "### Time Complexity for insertMergeSort (S=4)\n",
    "\n",
    "#### INSERTIONSORT PART\n",
    "- The ith iteration may have 1,2...i key comparisons, each with 1/i chance. \n",
    "- Average number of comparisons in the ith iteration: \n",
    "\n",
    "1⠀⠀⠀i⠀⠀⠀⠀⠀⠀⠀⠀⠀1\n",
    "\n",
    "–⠀⠀⠀∑⠀⠀j⠀⠀⠀=⠀⠀–⠀(1+2+...+i)\n",
    "\n",
    "i⠀⠀⠀j=1⠀⠀⠀⠀⠀⠀⠀⠀i\n",
    "\n",
    "- Hence, total complexity:\n",
    "\n",
    "S-1⠀⠀⠀1⠀⠀⠀i⠀⠀⠀⠀⠀⠀⠀⠀⠀\n",
    "\n",
    "⠀∑ ⠀(⠀–⠀⠀⠀∑⠀⠀j⠀⠀)⠀⠀⠀\n",
    "\n",
    "i=1⠀⠀⠀i⠀⠀⠀j=1⠀⠀⠀⠀⠀\n",
    "\n",
    "------\n",
    "\n",
    "S-1⠀⠀⠀1⠀⠀⠀i (i+1)⠀⠀⠀⠀⠀⠀⠀\n",
    "\n",
    "⠀∑ ⠀(⠀–⠀⠀––––––    )⠀⠀⠀\n",
    "\n",
    "i=1⠀⠀⠀i⠀⠀⠀⠀2⠀⠀⠀⠀⠀\n",
    "\n",
    "------\n",
    "\n",
    "S-1⠀⠀⠀1⠀⠀⠀⠀⠀⠀⠀⠀⠀\n",
    "\n",
    "⠀∑ ⠀(⠀–⠀⠀(i+1)   )⠀⠀⠀\n",
    "\n",
    "i=1⠀⠀⠀2⠀⠀⠀⠀⠀⠀⠀⠀⠀\n",
    "\n",
    "------\n",
    "\n",
    "= 1/2 (2+S)(S-1)/2\n",
    "\n",
    "= (S+2)(S-1)/4\n",
    "\n",
    "Since S is fixed, total time complexity = O(1)\n",
    "\n",
    "-----\n",
    "\n",
    "#### MERGESORT PART\n",
    "##### Merge function:\n",
    "- Best case, e.g. when list is already sorted allowing first sublist to traverse till end, is Θ(n/2)\n",
    "- Worst case, e.g. when list is sorted the wrong way, is Θ(n-1)\n",
    "\n",
    "##### Main function in worst case:\n",
    "\n",
    "W(n)\n",
    "\n",
    "= W(n/2) + W(n/2) + (n-1)\n",
    "    \n",
    "= 2W(n/2) + (n-1)\n",
    "    \n",
    "= 2<sup>2</sup>W(n/2<sup>2</sup>) + (n-1) + 2(n/2-1)\n",
    "    \n",
    "= 2<sup>3</sup>W(n/2<sup>3</sup>) + (n-1) + 2(n/2-1) + 2<sup>2</sup>(n/2<sup>2</sup>-1)\n",
    "    \n",
    "= ....\n",
    "\n",
    "= 2<sup>k</sup>W(n/2<sup>k</sup>) + (n-1) + 2(n/2-1) + 2<sup>2</sup>(n/2<sup>2</sup>-1) + ... + 2<sup>k</sup>(n/2<sup>k</sup>-1)\n",
    "\n",
    "For S=4, terminating condition is when 2<sup>k</sup> = n/4, hence n = 2<sup>k+2</sup> and log<sub>2</sub>n = k+2\n",
    "\n",
    "= nW(4)/4 + (n-1) + 2(n/2-1) + 2<sup>2</sup>(n/2<sup>2</sup>-1) + ... + (n-2<sup>k</sup>)\n",
    "\n",
    "= nW(4)/4 + (n-1) + (n-2) + (n-2<sup>2</sup>) ... + (n-2<sup>k</sup>)\n",
    "\n",
    "= nW(4)/4 + (n-2<sup>0</sup>) + (n-2<sup>1</sup>) + (n-2<sup>2</sup>) ... + (n-2<sup>k</sup>)\n",
    "\n",
    "= nW(4)/4 + (k+1)(n) - (2<sup>0</sup>+2<sup>1</sup>+2<sup>2</sup>...+2<sup>k</sup>)\n",
    "\n",
    "= nW(4)/4 + (k+1)(n) - (1(2<sup>k+1</sup>-1)/(2-1))\n",
    "\n",
    "= nW(4)/4 + (k+1)(n) - (2<sup>k+1</sup>-1)\n",
    "\n",
    "= nW(4)/4 + (k+1)(n) - (n/2-1)\n",
    "\n",
    "= nW(4)/4 + (log<sub>2</sub>n-1)(n) - (n/2-1)\n",
    "\n",
    "= O(n) + O(nlgn) - O(n) = O(nlgn)"
   ]
  },
  {
   "cell_type": "code",
   "execution_count": null,
   "id": "0e9e0512",
   "metadata": {},
   "outputs": [],
   "source": []
  }
 ],
 "metadata": {
  "kernelspec": {
   "display_name": "Python 3 (ipykernel)",
   "language": "python",
   "name": "python3"
  },
  "language_info": {
   "codemirror_mode": {
    "name": "ipython",
    "version": 3
   },
   "file_extension": ".py",
   "mimetype": "text/x-python",
   "name": "python",
   "nbconvert_exporter": "python",
   "pygments_lexer": "ipython3",
   "version": "3.9.7"
  }
 },
 "nbformat": 4,
 "nbformat_minor": 5
}
